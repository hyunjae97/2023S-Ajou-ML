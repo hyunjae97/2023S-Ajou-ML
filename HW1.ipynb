{
  "cells": [
    {
      "cell_type": "markdown",
      "metadata": {
        "id": "view-in-github",
        "colab_type": "text"
      },
      "source": [
        "<a href=\"https://colab.research.google.com/github/hyunjae97/2023S-Ajou-ML/blob/main/HW1.ipynb\" target=\"_parent\"><img src=\"https://colab.research.google.com/assets/colab-badge.svg\" alt=\"Open In Colab\"/></a>"
      ]
    },
    {
      "cell_type": "markdown",
      "source": [
        "# HW1 :: Exploratory Data Analysis (EDA)"
      ],
      "metadata": {
        "id": "_vscAqiXMEgX"
      }
    },
    {
      "cell_type": "markdown",
      "source": [
        "## 과제 목표\n",
        "-\t데이터의 형식에 대해서 이해하고 이를 변환할 수 있다. \n",
        "  -\t특히, numpy 와 pandas 라이브러리에 기반한 데이터 처리를 할 수 있다. \n",
        "-\t결측값, 중복값, 이상치를 처리하고 다양한 시각화를 할 수 있다.\n",
        "-\t기본적인 Exploratory Data Analysis를 수행할 수 있다. \n",
        "-\t데이터는 동봉된 train.csv을 이용한다. \n"
      ],
      "metadata": {
        "id": "9rhE6YmbQZ9G"
      }
    },
    {
      "cell_type": "markdown",
      "source": [
        "## 코랩과 구글 드라이브 연동하기"
      ],
      "metadata": {
        "id": "-_WymqIfMTsd"
      }
    },
    {
      "cell_type": "code",
      "source": [
        "from google.colab import drive\n",
        "drive.mount('/content/drive')"
      ],
      "metadata": {
        "id": "48p73pSOYiyn",
        "outputId": "844060e2-28df-407e-d87c-236e99ad82ac",
        "colab": {
          "base_uri": "https://localhost:8080/"
        }
      },
      "execution_count": 106,
      "outputs": [
        {
          "output_type": "stream",
          "name": "stdout",
          "text": [
            "Drive already mounted at /content/drive; to attempt to forcibly remount, call drive.mount(\"/content/drive\", force_remount=True).\n"
          ]
        }
      ]
    },
    {
      "cell_type": "code",
      "source": [
        "# pwd 명령어로 현재 위치 확인\n",
        "!pwd"
      ],
      "metadata": {
        "id": "MGWUpVCuMSxU",
        "outputId": "bbd6f0e9-1bd1-4783-ccfa-83b042749675",
        "colab": {
          "base_uri": "https://localhost:8080/"
        }
      },
      "execution_count": 107,
      "outputs": [
        {
          "output_type": "stream",
          "name": "stdout",
          "text": [
            "/content\n"
          ]
        }
      ]
    },
    {
      "cell_type": "code",
      "source": [
        "!ls # 현재 위치에 있는 디렉토리와 파일 목록 확인"
      ],
      "metadata": {
        "id": "zCJor27DMY3z",
        "outputId": "f2afb348-f5f6-4866-f0b7-6f9c51f55b75",
        "colab": {
          "base_uri": "https://localhost:8080/"
        }
      },
      "execution_count": 108,
      "outputs": [
        {
          "output_type": "stream",
          "name": "stdout",
          "text": [
            " drive\t sample_data  'train (1).csv'   train.csv\n"
          ]
        }
      ]
    },
    {
      "cell_type": "code",
      "source": [
        "cd 가고자하는 디렉토리 path"
      ],
      "metadata": {
        "id": "kjD9DAY4Ymlx",
        "outputId": "527fb4b2-8f5f-41b6-ec28-63c5654308a2",
        "colab": {
          "base_uri": "https://localhost:8080/"
        }
      },
      "execution_count": 109,
      "outputs": [
        {
          "output_type": "stream",
          "name": "stdout",
          "text": [
            "[Errno 2] No such file or directory: '가고자하는 디렉토리 path'\n",
            "/content\n"
          ]
        }
      ]
    },
    {
      "cell_type": "markdown",
      "source": [
        "## 데이터 불러오기 & 살펴보기"
      ],
      "metadata": {
        "id": "MxBJDYqwVZI0"
      }
    },
    {
      "cell_type": "markdown",
      "metadata": {
        "id": "0dDszicIVXwh"
      },
      "source": [
        "※본 과제는 [Loan Default prediction dataset] 데이터에 기반하여 출제 되었습니다.\n",
        "\n",
        "(https://www.kaggle.com/datasets/hemanthsai7/loandefault)\n",
        "\n"
      ]
    },
    {
      "cell_type": "markdown",
      "source": [
        "이 데이터는 자금 지원액, 잔액, 대출금 등 다양한 개인의 속성을 살펴, 대출 연체자가 될 지 예측하는 문제에 활용될 수 있습니다.  \n",
        "원래의 자료에서는 Train과 Test Dataset으로 나뉘어, 총 35개의 column과 96,000여개의 observation으로 구성되어 있습니다.   \n",
        "이번 과제에서는 Train data만을 사용하여 EDA를 해봅시다. "
      ],
      "metadata": {
        "id": "DhXCfkGAJn_t"
      }
    },
    {
      "cell_type": "markdown",
      "source": [
        "※ 데이터에 대한 자세한 설명은 HW1 word 파일을 확인해주세요"
      ],
      "metadata": {
        "id": "QdtaWx0WM6qJ"
      }
    },
    {
      "cell_type": "code",
      "source": [
        "# 이번 과제는 numpy, pandas와 같은 데이터를 불러내고 확인, 처리, \n",
        "# 수정 등을 쉽게 할 수 있는 library를 사용합니다.\n",
        "# 그래프를 그릴 때에는 matplotlib, seaborn library를 사용합니다.\n",
        "\n",
        "# 모듈 이름 뒤에 as를 쓰고 별칭을 적으면 해당 별칭으로 모듈을 호출할 수 있습니다.\n",
        "# 모듈명: numpy, 별칭: np => numpy를 쓰는 대신 np를 써서 numpy 호출\n",
        "# 모듈명: pandas, 별칭: pd => pandas를 쓰는 대신 pd를 써서 pandas 호출\n",
        "import numpy as np\n",
        "import pandas as pd\n",
        "import matplotlib.pyplot as plt\n",
        "import seaborn as sns"
      ],
      "metadata": {
        "id": "0YqqOdFuM_EV"
      },
      "execution_count": 156,
      "outputs": []
    },
    {
      "cell_type": "code",
      "source": [
        "from google.colab import files \n",
        "uploaded = files.upload()"
      ],
      "metadata": {
        "id": "aSAVLD2pXlSN",
        "outputId": "744fbcbb-6a59-4f51-ee34-3a940774271e",
        "colab": {
          "base_uri": "https://localhost:8080/",
          "height": 75
        }
      },
      "execution_count": 17,
      "outputs": [
        {
          "output_type": "display_data",
          "data": {
            "text/plain": [
              "<IPython.core.display.HTML object>"
            ],
            "text/html": [
              "\n",
              "     <input type=\"file\" id=\"files-5c2e2162-7816-43f4-b194-3e16a76cd675\" name=\"files[]\" multiple disabled\n",
              "        style=\"border:none\" />\n",
              "     <output id=\"result-5c2e2162-7816-43f4-b194-3e16a76cd675\">\n",
              "      Upload widget is only available when the cell has been executed in the\n",
              "      current browser session. Please rerun this cell to enable.\n",
              "      </output>\n",
              "      <script>// Copyright 2017 Google LLC\n",
              "//\n",
              "// Licensed under the Apache License, Version 2.0 (the \"License\");\n",
              "// you may not use this file except in compliance with the License.\n",
              "// You may obtain a copy of the License at\n",
              "//\n",
              "//      http://www.apache.org/licenses/LICENSE-2.0\n",
              "//\n",
              "// Unless required by applicable law or agreed to in writing, software\n",
              "// distributed under the License is distributed on an \"AS IS\" BASIS,\n",
              "// WITHOUT WARRANTIES OR CONDITIONS OF ANY KIND, either express or implied.\n",
              "// See the License for the specific language governing permissions and\n",
              "// limitations under the License.\n",
              "\n",
              "/**\n",
              " * @fileoverview Helpers for google.colab Python module.\n",
              " */\n",
              "(function(scope) {\n",
              "function span(text, styleAttributes = {}) {\n",
              "  const element = document.createElement('span');\n",
              "  element.textContent = text;\n",
              "  for (const key of Object.keys(styleAttributes)) {\n",
              "    element.style[key] = styleAttributes[key];\n",
              "  }\n",
              "  return element;\n",
              "}\n",
              "\n",
              "// Max number of bytes which will be uploaded at a time.\n",
              "const MAX_PAYLOAD_SIZE = 100 * 1024;\n",
              "\n",
              "function _uploadFiles(inputId, outputId) {\n",
              "  const steps = uploadFilesStep(inputId, outputId);\n",
              "  const outputElement = document.getElementById(outputId);\n",
              "  // Cache steps on the outputElement to make it available for the next call\n",
              "  // to uploadFilesContinue from Python.\n",
              "  outputElement.steps = steps;\n",
              "\n",
              "  return _uploadFilesContinue(outputId);\n",
              "}\n",
              "\n",
              "// This is roughly an async generator (not supported in the browser yet),\n",
              "// where there are multiple asynchronous steps and the Python side is going\n",
              "// to poll for completion of each step.\n",
              "// This uses a Promise to block the python side on completion of each step,\n",
              "// then passes the result of the previous step as the input to the next step.\n",
              "function _uploadFilesContinue(outputId) {\n",
              "  const outputElement = document.getElementById(outputId);\n",
              "  const steps = outputElement.steps;\n",
              "\n",
              "  const next = steps.next(outputElement.lastPromiseValue);\n",
              "  return Promise.resolve(next.value.promise).then((value) => {\n",
              "    // Cache the last promise value to make it available to the next\n",
              "    // step of the generator.\n",
              "    outputElement.lastPromiseValue = value;\n",
              "    return next.value.response;\n",
              "  });\n",
              "}\n",
              "\n",
              "/**\n",
              " * Generator function which is called between each async step of the upload\n",
              " * process.\n",
              " * @param {string} inputId Element ID of the input file picker element.\n",
              " * @param {string} outputId Element ID of the output display.\n",
              " * @return {!Iterable<!Object>} Iterable of next steps.\n",
              " */\n",
              "function* uploadFilesStep(inputId, outputId) {\n",
              "  const inputElement = document.getElementById(inputId);\n",
              "  inputElement.disabled = false;\n",
              "\n",
              "  const outputElement = document.getElementById(outputId);\n",
              "  outputElement.innerHTML = '';\n",
              "\n",
              "  const pickedPromise = new Promise((resolve) => {\n",
              "    inputElement.addEventListener('change', (e) => {\n",
              "      resolve(e.target.files);\n",
              "    });\n",
              "  });\n",
              "\n",
              "  const cancel = document.createElement('button');\n",
              "  inputElement.parentElement.appendChild(cancel);\n",
              "  cancel.textContent = 'Cancel upload';\n",
              "  const cancelPromise = new Promise((resolve) => {\n",
              "    cancel.onclick = () => {\n",
              "      resolve(null);\n",
              "    };\n",
              "  });\n",
              "\n",
              "  // Wait for the user to pick the files.\n",
              "  const files = yield {\n",
              "    promise: Promise.race([pickedPromise, cancelPromise]),\n",
              "    response: {\n",
              "      action: 'starting',\n",
              "    }\n",
              "  };\n",
              "\n",
              "  cancel.remove();\n",
              "\n",
              "  // Disable the input element since further picks are not allowed.\n",
              "  inputElement.disabled = true;\n",
              "\n",
              "  if (!files) {\n",
              "    return {\n",
              "      response: {\n",
              "        action: 'complete',\n",
              "      }\n",
              "    };\n",
              "  }\n",
              "\n",
              "  for (const file of files) {\n",
              "    const li = document.createElement('li');\n",
              "    li.append(span(file.name, {fontWeight: 'bold'}));\n",
              "    li.append(span(\n",
              "        `(${file.type || 'n/a'}) - ${file.size} bytes, ` +\n",
              "        `last modified: ${\n",
              "            file.lastModifiedDate ? file.lastModifiedDate.toLocaleDateString() :\n",
              "                                    'n/a'} - `));\n",
              "    const percent = span('0% done');\n",
              "    li.appendChild(percent);\n",
              "\n",
              "    outputElement.appendChild(li);\n",
              "\n",
              "    const fileDataPromise = new Promise((resolve) => {\n",
              "      const reader = new FileReader();\n",
              "      reader.onload = (e) => {\n",
              "        resolve(e.target.result);\n",
              "      };\n",
              "      reader.readAsArrayBuffer(file);\n",
              "    });\n",
              "    // Wait for the data to be ready.\n",
              "    let fileData = yield {\n",
              "      promise: fileDataPromise,\n",
              "      response: {\n",
              "        action: 'continue',\n",
              "      }\n",
              "    };\n",
              "\n",
              "    // Use a chunked sending to avoid message size limits. See b/62115660.\n",
              "    let position = 0;\n",
              "    do {\n",
              "      const length = Math.min(fileData.byteLength - position, MAX_PAYLOAD_SIZE);\n",
              "      const chunk = new Uint8Array(fileData, position, length);\n",
              "      position += length;\n",
              "\n",
              "      const base64 = btoa(String.fromCharCode.apply(null, chunk));\n",
              "      yield {\n",
              "        response: {\n",
              "          action: 'append',\n",
              "          file: file.name,\n",
              "          data: base64,\n",
              "        },\n",
              "      };\n",
              "\n",
              "      let percentDone = fileData.byteLength === 0 ?\n",
              "          100 :\n",
              "          Math.round((position / fileData.byteLength) * 100);\n",
              "      percent.textContent = `${percentDone}% done`;\n",
              "\n",
              "    } while (position < fileData.byteLength);\n",
              "  }\n",
              "\n",
              "  // All done.\n",
              "  yield {\n",
              "    response: {\n",
              "      action: 'complete',\n",
              "    }\n",
              "  };\n",
              "}\n",
              "\n",
              "scope.google = scope.google || {};\n",
              "scope.google.colab = scope.google.colab || {};\n",
              "scope.google.colab._files = {\n",
              "  _uploadFiles,\n",
              "  _uploadFilesContinue,\n",
              "};\n",
              "})(self);\n",
              "</script> "
            ]
          },
          "metadata": {}
        },
        {
          "output_type": "stream",
          "name": "stdout",
          "text": [
            "Saving train.csv to train (1).csv\n"
          ]
        }
      ]
    },
    {
      "cell_type": "code",
      "source": [
        "import io \n",
        "data = pd.read_csv(io.BytesIO(uploaded['train.csv']))"
      ],
      "metadata": {
        "id": "_lSCLm5Ikpny"
      },
      "execution_count": 135,
      "outputs": []
    },
    {
      "cell_type": "code",
      "source": [
        "# './'는 이 노트북 파일의 현재 위치를 뜻 합니다.\n",
        "path = 'train.csv'\n",
        "\n",
        "# pandas의 read_csv 함수를 사용하여 csv파일을 DataFrame으로 불러옵니다.\n",
        "data = pd.read_csv(path)"
      ],
      "metadata": {
        "id": "CJ0nEgMwNN4R"
      },
      "execution_count": 136,
      "outputs": []
    },
    {
      "cell_type": "code",
      "source": [
        "# DataFrame 혹은 Series와 같은 자료구조에 shape함수를 통해 데이터의 크기와 \n",
        "# 변수의 갯수를 대략적으로 알 수 있습니다.\n",
        "\n",
        "data.shape # (67463, 35) => 67463 개의 row(행), 35 개의 column(열)을 가진 데이터"
      ],
      "metadata": {
        "id": "yg7kPjk1NTWq",
        "outputId": "a5acc412-36b7-4114-eee8-1fe007f9810c",
        "colab": {
          "base_uri": "https://localhost:8080/"
        }
      },
      "execution_count": 137,
      "outputs": [
        {
          "output_type": "execute_result",
          "data": {
            "text/plain": [
              "(67463, 35)"
            ]
          },
          "metadata": {},
          "execution_count": 137
        }
      ]
    },
    {
      "cell_type": "code",
      "source": [
        "# head() 함수를 이용하여 해당 데이터의 맨 위 5개의 원소를 볼 수 있습니다.\n",
        "# 더 많은 행을 보고 싶다면 ()안에 숫자를 넣어주시면 됩니다.\n",
        "\n",
        "data.head()"
      ],
      "metadata": {
        "id": "B2fIJfCfOGQd",
        "outputId": "ca441791-17e5-4f11-b183-9e381ba7fff6",
        "colab": {
          "base_uri": "https://localhost:8080/",
          "height": 314
        }
      },
      "execution_count": 130,
      "outputs": [
        {
          "output_type": "execute_result",
          "data": {
            "text/plain": [
              "         ID  Loan Amount  Funded Amount  Funded Amount Investor  Term  \\\n",
              "0  65087372        10000          32236             12329.36286    59   \n",
              "1   1450153         3609          11940             12191.99692    59   \n",
              "2   1969101        28276           9311             21603.22455    59   \n",
              "3   6651430        11170           6954             17877.15585    59   \n",
              "4  14354669        16890          13226             13539.92667    59   \n",
              "\n",
              "  Batch Enrolled  Interest Rate Grade Sub Grade Employment Duration  ...  \\\n",
              "0     BAT2522922      11.135007     B        C4            MORTGAGE  ...   \n",
              "1     BAT1586599      12.237563     C        D3                RENT  ...   \n",
              "2     BAT2136391      12.545884     F        D4            MORTGAGE  ...   \n",
              "3     BAT2428731      16.731201     C        C3            MORTGAGE  ...   \n",
              "4     BAT5341619      15.008300     C        D4            MORTGAGE  ...   \n",
              "\n",
              "    Recoveries Collection Recovery Fee Collection 12 months Medical  \\\n",
              "0     2.498291                0.793724                            0   \n",
              "1     2.377215                0.974821                            0   \n",
              "2     4.316277                1.020075                            0   \n",
              "3     0.107020                0.749971                            0   \n",
              "4  1294.818751                0.368953                            0   \n",
              "\n",
              "  Application Type  Last week Pay  Accounts Delinquent  \\\n",
              "0       INDIVIDUAL             49                    0   \n",
              "1       INDIVIDUAL            109                    0   \n",
              "2       INDIVIDUAL             66                    0   \n",
              "3       INDIVIDUAL             39                    0   \n",
              "4       INDIVIDUAL             18                    0   \n",
              "\n",
              "   Total Collection Amount  Total Current Balance  \\\n",
              "0                       31                 311301   \n",
              "1                       53                 182610   \n",
              "2                       34                  89801   \n",
              "3                       40                   9189   \n",
              "4                      430                 126029   \n",
              "\n",
              "   Total Revolving Credit Limit  Loan Status  \n",
              "0                          6619            0  \n",
              "1                         20885            0  \n",
              "2                         26155            0  \n",
              "3                         60214            0  \n",
              "4                         22579            0  \n",
              "\n",
              "[5 rows x 35 columns]"
            ],
            "text/html": [
              "\n",
              "  <div id=\"df-3e240f8b-8a35-4c42-b5f2-e53dd9582a9a\">\n",
              "    <div class=\"colab-df-container\">\n",
              "      <div>\n",
              "<style scoped>\n",
              "    .dataframe tbody tr th:only-of-type {\n",
              "        vertical-align: middle;\n",
              "    }\n",
              "\n",
              "    .dataframe tbody tr th {\n",
              "        vertical-align: top;\n",
              "    }\n",
              "\n",
              "    .dataframe thead th {\n",
              "        text-align: right;\n",
              "    }\n",
              "</style>\n",
              "<table border=\"1\" class=\"dataframe\">\n",
              "  <thead>\n",
              "    <tr style=\"text-align: right;\">\n",
              "      <th></th>\n",
              "      <th>ID</th>\n",
              "      <th>Loan Amount</th>\n",
              "      <th>Funded Amount</th>\n",
              "      <th>Funded Amount Investor</th>\n",
              "      <th>Term</th>\n",
              "      <th>Batch Enrolled</th>\n",
              "      <th>Interest Rate</th>\n",
              "      <th>Grade</th>\n",
              "      <th>Sub Grade</th>\n",
              "      <th>Employment Duration</th>\n",
              "      <th>...</th>\n",
              "      <th>Recoveries</th>\n",
              "      <th>Collection Recovery Fee</th>\n",
              "      <th>Collection 12 months Medical</th>\n",
              "      <th>Application Type</th>\n",
              "      <th>Last week Pay</th>\n",
              "      <th>Accounts Delinquent</th>\n",
              "      <th>Total Collection Amount</th>\n",
              "      <th>Total Current Balance</th>\n",
              "      <th>Total Revolving Credit Limit</th>\n",
              "      <th>Loan Status</th>\n",
              "    </tr>\n",
              "  </thead>\n",
              "  <tbody>\n",
              "    <tr>\n",
              "      <th>0</th>\n",
              "      <td>65087372</td>\n",
              "      <td>10000</td>\n",
              "      <td>32236</td>\n",
              "      <td>12329.36286</td>\n",
              "      <td>59</td>\n",
              "      <td>BAT2522922</td>\n",
              "      <td>11.135007</td>\n",
              "      <td>B</td>\n",
              "      <td>C4</td>\n",
              "      <td>MORTGAGE</td>\n",
              "      <td>...</td>\n",
              "      <td>2.498291</td>\n",
              "      <td>0.793724</td>\n",
              "      <td>0</td>\n",
              "      <td>INDIVIDUAL</td>\n",
              "      <td>49</td>\n",
              "      <td>0</td>\n",
              "      <td>31</td>\n",
              "      <td>311301</td>\n",
              "      <td>6619</td>\n",
              "      <td>0</td>\n",
              "    </tr>\n",
              "    <tr>\n",
              "      <th>1</th>\n",
              "      <td>1450153</td>\n",
              "      <td>3609</td>\n",
              "      <td>11940</td>\n",
              "      <td>12191.99692</td>\n",
              "      <td>59</td>\n",
              "      <td>BAT1586599</td>\n",
              "      <td>12.237563</td>\n",
              "      <td>C</td>\n",
              "      <td>D3</td>\n",
              "      <td>RENT</td>\n",
              "      <td>...</td>\n",
              "      <td>2.377215</td>\n",
              "      <td>0.974821</td>\n",
              "      <td>0</td>\n",
              "      <td>INDIVIDUAL</td>\n",
              "      <td>109</td>\n",
              "      <td>0</td>\n",
              "      <td>53</td>\n",
              "      <td>182610</td>\n",
              "      <td>20885</td>\n",
              "      <td>0</td>\n",
              "    </tr>\n",
              "    <tr>\n",
              "      <th>2</th>\n",
              "      <td>1969101</td>\n",
              "      <td>28276</td>\n",
              "      <td>9311</td>\n",
              "      <td>21603.22455</td>\n",
              "      <td>59</td>\n",
              "      <td>BAT2136391</td>\n",
              "      <td>12.545884</td>\n",
              "      <td>F</td>\n",
              "      <td>D4</td>\n",
              "      <td>MORTGAGE</td>\n",
              "      <td>...</td>\n",
              "      <td>4.316277</td>\n",
              "      <td>1.020075</td>\n",
              "      <td>0</td>\n",
              "      <td>INDIVIDUAL</td>\n",
              "      <td>66</td>\n",
              "      <td>0</td>\n",
              "      <td>34</td>\n",
              "      <td>89801</td>\n",
              "      <td>26155</td>\n",
              "      <td>0</td>\n",
              "    </tr>\n",
              "    <tr>\n",
              "      <th>3</th>\n",
              "      <td>6651430</td>\n",
              "      <td>11170</td>\n",
              "      <td>6954</td>\n",
              "      <td>17877.15585</td>\n",
              "      <td>59</td>\n",
              "      <td>BAT2428731</td>\n",
              "      <td>16.731201</td>\n",
              "      <td>C</td>\n",
              "      <td>C3</td>\n",
              "      <td>MORTGAGE</td>\n",
              "      <td>...</td>\n",
              "      <td>0.107020</td>\n",
              "      <td>0.749971</td>\n",
              "      <td>0</td>\n",
              "      <td>INDIVIDUAL</td>\n",
              "      <td>39</td>\n",
              "      <td>0</td>\n",
              "      <td>40</td>\n",
              "      <td>9189</td>\n",
              "      <td>60214</td>\n",
              "      <td>0</td>\n",
              "    </tr>\n",
              "    <tr>\n",
              "      <th>4</th>\n",
              "      <td>14354669</td>\n",
              "      <td>16890</td>\n",
              "      <td>13226</td>\n",
              "      <td>13539.92667</td>\n",
              "      <td>59</td>\n",
              "      <td>BAT5341619</td>\n",
              "      <td>15.008300</td>\n",
              "      <td>C</td>\n",
              "      <td>D4</td>\n",
              "      <td>MORTGAGE</td>\n",
              "      <td>...</td>\n",
              "      <td>1294.818751</td>\n",
              "      <td>0.368953</td>\n",
              "      <td>0</td>\n",
              "      <td>INDIVIDUAL</td>\n",
              "      <td>18</td>\n",
              "      <td>0</td>\n",
              "      <td>430</td>\n",
              "      <td>126029</td>\n",
              "      <td>22579</td>\n",
              "      <td>0</td>\n",
              "    </tr>\n",
              "  </tbody>\n",
              "</table>\n",
              "<p>5 rows × 35 columns</p>\n",
              "</div>\n",
              "      <button class=\"colab-df-convert\" onclick=\"convertToInteractive('df-3e240f8b-8a35-4c42-b5f2-e53dd9582a9a')\"\n",
              "              title=\"Convert this dataframe to an interactive table.\"\n",
              "              style=\"display:none;\">\n",
              "        \n",
              "  <svg xmlns=\"http://www.w3.org/2000/svg\" height=\"24px\"viewBox=\"0 0 24 24\"\n",
              "       width=\"24px\">\n",
              "    <path d=\"M0 0h24v24H0V0z\" fill=\"none\"/>\n",
              "    <path d=\"M18.56 5.44l.94 2.06.94-2.06 2.06-.94-2.06-.94-.94-2.06-.94 2.06-2.06.94zm-11 1L8.5 8.5l.94-2.06 2.06-.94-2.06-.94L8.5 2.5l-.94 2.06-2.06.94zm10 10l.94 2.06.94-2.06 2.06-.94-2.06-.94-.94-2.06-.94 2.06-2.06.94z\"/><path d=\"M17.41 7.96l-1.37-1.37c-.4-.4-.92-.59-1.43-.59-.52 0-1.04.2-1.43.59L10.3 9.45l-7.72 7.72c-.78.78-.78 2.05 0 2.83L4 21.41c.39.39.9.59 1.41.59.51 0 1.02-.2 1.41-.59l7.78-7.78 2.81-2.81c.8-.78.8-2.07 0-2.86zM5.41 20L4 18.59l7.72-7.72 1.47 1.35L5.41 20z\"/>\n",
              "  </svg>\n",
              "      </button>\n",
              "      \n",
              "  <style>\n",
              "    .colab-df-container {\n",
              "      display:flex;\n",
              "      flex-wrap:wrap;\n",
              "      gap: 12px;\n",
              "    }\n",
              "\n",
              "    .colab-df-convert {\n",
              "      background-color: #E8F0FE;\n",
              "      border: none;\n",
              "      border-radius: 50%;\n",
              "      cursor: pointer;\n",
              "      display: none;\n",
              "      fill: #1967D2;\n",
              "      height: 32px;\n",
              "      padding: 0 0 0 0;\n",
              "      width: 32px;\n",
              "    }\n",
              "\n",
              "    .colab-df-convert:hover {\n",
              "      background-color: #E2EBFA;\n",
              "      box-shadow: 0px 1px 2px rgba(60, 64, 67, 0.3), 0px 1px 3px 1px rgba(60, 64, 67, 0.15);\n",
              "      fill: #174EA6;\n",
              "    }\n",
              "\n",
              "    [theme=dark] .colab-df-convert {\n",
              "      background-color: #3B4455;\n",
              "      fill: #D2E3FC;\n",
              "    }\n",
              "\n",
              "    [theme=dark] .colab-df-convert:hover {\n",
              "      background-color: #434B5C;\n",
              "      box-shadow: 0px 1px 3px 1px rgba(0, 0, 0, 0.15);\n",
              "      filter: drop-shadow(0px 1px 2px rgba(0, 0, 0, 0.3));\n",
              "      fill: #FFFFFF;\n",
              "    }\n",
              "  </style>\n",
              "\n",
              "      <script>\n",
              "        const buttonEl =\n",
              "          document.querySelector('#df-3e240f8b-8a35-4c42-b5f2-e53dd9582a9a button.colab-df-convert');\n",
              "        buttonEl.style.display =\n",
              "          google.colab.kernel.accessAllowed ? 'block' : 'none';\n",
              "\n",
              "        async function convertToInteractive(key) {\n",
              "          const element = document.querySelector('#df-3e240f8b-8a35-4c42-b5f2-e53dd9582a9a');\n",
              "          const dataTable =\n",
              "            await google.colab.kernel.invokeFunction('convertToInteractive',\n",
              "                                                     [key], {});\n",
              "          if (!dataTable) return;\n",
              "\n",
              "          const docLinkHtml = 'Like what you see? Visit the ' +\n",
              "            '<a target=\"_blank\" href=https://colab.research.google.com/notebooks/data_table.ipynb>data table notebook</a>'\n",
              "            + ' to learn more about interactive tables.';\n",
              "          element.innerHTML = '';\n",
              "          dataTable['output_type'] = 'display_data';\n",
              "          await google.colab.output.renderOutput(dataTable, element);\n",
              "          const docLink = document.createElement('div');\n",
              "          docLink.innerHTML = docLinkHtml;\n",
              "          element.appendChild(docLink);\n",
              "        }\n",
              "      </script>\n",
              "    </div>\n",
              "  </div>\n",
              "  "
            ]
          },
          "metadata": {},
          "execution_count": 130
        }
      ]
    },
    {
      "cell_type": "code",
      "source": [
        "# tail() 함수를 이용하여 해당 데이터의 맨 뒤 5개의 원소를 볼 수 있습니다.\n",
        "# 더 많은 행을 보고 싶다면 ()안에 숫자를 넣어주시면 됩니다.\n",
        "\n",
        "data.tail()"
      ],
      "metadata": {
        "id": "4FdL-RvCOI5H",
        "outputId": "cd38a66c-5103-4be5-a15b-178f22e58c09",
        "colab": {
          "base_uri": "https://localhost:8080/",
          "height": 314
        }
      },
      "execution_count": 115,
      "outputs": [
        {
          "output_type": "execute_result",
          "data": {
            "text/plain": [
              "             ID  Loan Amount  Funded Amount  Funded Amount Investor  Term  \\\n",
              "67458  16164945        13601           6848             13175.28583    59   \n",
              "67459  35182714         8323          11046             15637.46301    59   \n",
              "67460  16435904        15897          32921             12329.45775    59   \n",
              "67461   5300325        16567           4975             21353.68465    59   \n",
              "67462  65443173        15353          29875             14207.44860    59   \n",
              "\n",
              "      Batch Enrolled  Interest Rate Grade Sub Grade Employment Duration  ...  \\\n",
              "67458     BAT3193689       9.408858     C        A4            MORTGAGE  ...   \n",
              "67459     BAT1780517       9.972104     C        B3                RENT  ...   \n",
              "67460     BAT1761981      19.650943     A        F3            MORTGAGE  ...   \n",
              "67461     BAT2333412      13.169095     D        E3                 OWN  ...   \n",
              "67462     BAT1930365      16.034631     B        D1            MORTGAGE  ...   \n",
              "\n",
              "       Recoveries Collection Recovery Fee Collection 12 months Medical  \\\n",
              "67458  564.614852                0.865230                            0   \n",
              "67459    2.015494                1.403368                            0   \n",
              "67460    5.673092                1.607093                            0   \n",
              "67461    1.157454                0.207608                            0   \n",
              "67462    1.856480                0.366386                            0   \n",
              "\n",
              "      Application Type  Last week Pay  Accounts Delinquent  \\\n",
              "67458       INDIVIDUAL             69                    0   \n",
              "67459       INDIVIDUAL             14                    0   \n",
              "67460       INDIVIDUAL            137                    0   \n",
              "67461       INDIVIDUAL             73                    0   \n",
              "67462       INDIVIDUAL             54                    0   \n",
              "\n",
              "       Total Collection Amount  Total Current Balance  \\\n",
              "67458                       48                 181775   \n",
              "67459                       37                  22692   \n",
              "67460                       17                 176857   \n",
              "67461                       61                 361339   \n",
              "67462                       47                 196960   \n",
              "\n",
              "       Total Revolving Credit Limit  Loan Status  \n",
              "67458                         34301            1  \n",
              "67459                          8714            0  \n",
              "67460                         42330            0  \n",
              "67461                         39075            0  \n",
              "67462                         66060            0  \n",
              "\n",
              "[5 rows x 35 columns]"
            ],
            "text/html": [
              "\n",
              "  <div id=\"df-a83ca338-4cc2-4ea9-9fe9-263574ea5121\">\n",
              "    <div class=\"colab-df-container\">\n",
              "      <div>\n",
              "<style scoped>\n",
              "    .dataframe tbody tr th:only-of-type {\n",
              "        vertical-align: middle;\n",
              "    }\n",
              "\n",
              "    .dataframe tbody tr th {\n",
              "        vertical-align: top;\n",
              "    }\n",
              "\n",
              "    .dataframe thead th {\n",
              "        text-align: right;\n",
              "    }\n",
              "</style>\n",
              "<table border=\"1\" class=\"dataframe\">\n",
              "  <thead>\n",
              "    <tr style=\"text-align: right;\">\n",
              "      <th></th>\n",
              "      <th>ID</th>\n",
              "      <th>Loan Amount</th>\n",
              "      <th>Funded Amount</th>\n",
              "      <th>Funded Amount Investor</th>\n",
              "      <th>Term</th>\n",
              "      <th>Batch Enrolled</th>\n",
              "      <th>Interest Rate</th>\n",
              "      <th>Grade</th>\n",
              "      <th>Sub Grade</th>\n",
              "      <th>Employment Duration</th>\n",
              "      <th>...</th>\n",
              "      <th>Recoveries</th>\n",
              "      <th>Collection Recovery Fee</th>\n",
              "      <th>Collection 12 months Medical</th>\n",
              "      <th>Application Type</th>\n",
              "      <th>Last week Pay</th>\n",
              "      <th>Accounts Delinquent</th>\n",
              "      <th>Total Collection Amount</th>\n",
              "      <th>Total Current Balance</th>\n",
              "      <th>Total Revolving Credit Limit</th>\n",
              "      <th>Loan Status</th>\n",
              "    </tr>\n",
              "  </thead>\n",
              "  <tbody>\n",
              "    <tr>\n",
              "      <th>67458</th>\n",
              "      <td>16164945</td>\n",
              "      <td>13601</td>\n",
              "      <td>6848</td>\n",
              "      <td>13175.28583</td>\n",
              "      <td>59</td>\n",
              "      <td>BAT3193689</td>\n",
              "      <td>9.408858</td>\n",
              "      <td>C</td>\n",
              "      <td>A4</td>\n",
              "      <td>MORTGAGE</td>\n",
              "      <td>...</td>\n",
              "      <td>564.614852</td>\n",
              "      <td>0.865230</td>\n",
              "      <td>0</td>\n",
              "      <td>INDIVIDUAL</td>\n",
              "      <td>69</td>\n",
              "      <td>0</td>\n",
              "      <td>48</td>\n",
              "      <td>181775</td>\n",
              "      <td>34301</td>\n",
              "      <td>1</td>\n",
              "    </tr>\n",
              "    <tr>\n",
              "      <th>67459</th>\n",
              "      <td>35182714</td>\n",
              "      <td>8323</td>\n",
              "      <td>11046</td>\n",
              "      <td>15637.46301</td>\n",
              "      <td>59</td>\n",
              "      <td>BAT1780517</td>\n",
              "      <td>9.972104</td>\n",
              "      <td>C</td>\n",
              "      <td>B3</td>\n",
              "      <td>RENT</td>\n",
              "      <td>...</td>\n",
              "      <td>2.015494</td>\n",
              "      <td>1.403368</td>\n",
              "      <td>0</td>\n",
              "      <td>INDIVIDUAL</td>\n",
              "      <td>14</td>\n",
              "      <td>0</td>\n",
              "      <td>37</td>\n",
              "      <td>22692</td>\n",
              "      <td>8714</td>\n",
              "      <td>0</td>\n",
              "    </tr>\n",
              "    <tr>\n",
              "      <th>67460</th>\n",
              "      <td>16435904</td>\n",
              "      <td>15897</td>\n",
              "      <td>32921</td>\n",
              "      <td>12329.45775</td>\n",
              "      <td>59</td>\n",
              "      <td>BAT1761981</td>\n",
              "      <td>19.650943</td>\n",
              "      <td>A</td>\n",
              "      <td>F3</td>\n",
              "      <td>MORTGAGE</td>\n",
              "      <td>...</td>\n",
              "      <td>5.673092</td>\n",
              "      <td>1.607093</td>\n",
              "      <td>0</td>\n",
              "      <td>INDIVIDUAL</td>\n",
              "      <td>137</td>\n",
              "      <td>0</td>\n",
              "      <td>17</td>\n",
              "      <td>176857</td>\n",
              "      <td>42330</td>\n",
              "      <td>0</td>\n",
              "    </tr>\n",
              "    <tr>\n",
              "      <th>67461</th>\n",
              "      <td>5300325</td>\n",
              "      <td>16567</td>\n",
              "      <td>4975</td>\n",
              "      <td>21353.68465</td>\n",
              "      <td>59</td>\n",
              "      <td>BAT2333412</td>\n",
              "      <td>13.169095</td>\n",
              "      <td>D</td>\n",
              "      <td>E3</td>\n",
              "      <td>OWN</td>\n",
              "      <td>...</td>\n",
              "      <td>1.157454</td>\n",
              "      <td>0.207608</td>\n",
              "      <td>0</td>\n",
              "      <td>INDIVIDUAL</td>\n",
              "      <td>73</td>\n",
              "      <td>0</td>\n",
              "      <td>61</td>\n",
              "      <td>361339</td>\n",
              "      <td>39075</td>\n",
              "      <td>0</td>\n",
              "    </tr>\n",
              "    <tr>\n",
              "      <th>67462</th>\n",
              "      <td>65443173</td>\n",
              "      <td>15353</td>\n",
              "      <td>29875</td>\n",
              "      <td>14207.44860</td>\n",
              "      <td>59</td>\n",
              "      <td>BAT1930365</td>\n",
              "      <td>16.034631</td>\n",
              "      <td>B</td>\n",
              "      <td>D1</td>\n",
              "      <td>MORTGAGE</td>\n",
              "      <td>...</td>\n",
              "      <td>1.856480</td>\n",
              "      <td>0.366386</td>\n",
              "      <td>0</td>\n",
              "      <td>INDIVIDUAL</td>\n",
              "      <td>54</td>\n",
              "      <td>0</td>\n",
              "      <td>47</td>\n",
              "      <td>196960</td>\n",
              "      <td>66060</td>\n",
              "      <td>0</td>\n",
              "    </tr>\n",
              "  </tbody>\n",
              "</table>\n",
              "<p>5 rows × 35 columns</p>\n",
              "</div>\n",
              "      <button class=\"colab-df-convert\" onclick=\"convertToInteractive('df-a83ca338-4cc2-4ea9-9fe9-263574ea5121')\"\n",
              "              title=\"Convert this dataframe to an interactive table.\"\n",
              "              style=\"display:none;\">\n",
              "        \n",
              "  <svg xmlns=\"http://www.w3.org/2000/svg\" height=\"24px\"viewBox=\"0 0 24 24\"\n",
              "       width=\"24px\">\n",
              "    <path d=\"M0 0h24v24H0V0z\" fill=\"none\"/>\n",
              "    <path d=\"M18.56 5.44l.94 2.06.94-2.06 2.06-.94-2.06-.94-.94-2.06-.94 2.06-2.06.94zm-11 1L8.5 8.5l.94-2.06 2.06-.94-2.06-.94L8.5 2.5l-.94 2.06-2.06.94zm10 10l.94 2.06.94-2.06 2.06-.94-2.06-.94-.94-2.06-.94 2.06-2.06.94z\"/><path d=\"M17.41 7.96l-1.37-1.37c-.4-.4-.92-.59-1.43-.59-.52 0-1.04.2-1.43.59L10.3 9.45l-7.72 7.72c-.78.78-.78 2.05 0 2.83L4 21.41c.39.39.9.59 1.41.59.51 0 1.02-.2 1.41-.59l7.78-7.78 2.81-2.81c.8-.78.8-2.07 0-2.86zM5.41 20L4 18.59l7.72-7.72 1.47 1.35L5.41 20z\"/>\n",
              "  </svg>\n",
              "      </button>\n",
              "      \n",
              "  <style>\n",
              "    .colab-df-container {\n",
              "      display:flex;\n",
              "      flex-wrap:wrap;\n",
              "      gap: 12px;\n",
              "    }\n",
              "\n",
              "    .colab-df-convert {\n",
              "      background-color: #E8F0FE;\n",
              "      border: none;\n",
              "      border-radius: 50%;\n",
              "      cursor: pointer;\n",
              "      display: none;\n",
              "      fill: #1967D2;\n",
              "      height: 32px;\n",
              "      padding: 0 0 0 0;\n",
              "      width: 32px;\n",
              "    }\n",
              "\n",
              "    .colab-df-convert:hover {\n",
              "      background-color: #E2EBFA;\n",
              "      box-shadow: 0px 1px 2px rgba(60, 64, 67, 0.3), 0px 1px 3px 1px rgba(60, 64, 67, 0.15);\n",
              "      fill: #174EA6;\n",
              "    }\n",
              "\n",
              "    [theme=dark] .colab-df-convert {\n",
              "      background-color: #3B4455;\n",
              "      fill: #D2E3FC;\n",
              "    }\n",
              "\n",
              "    [theme=dark] .colab-df-convert:hover {\n",
              "      background-color: #434B5C;\n",
              "      box-shadow: 0px 1px 3px 1px rgba(0, 0, 0, 0.15);\n",
              "      filter: drop-shadow(0px 1px 2px rgba(0, 0, 0, 0.3));\n",
              "      fill: #FFFFFF;\n",
              "    }\n",
              "  </style>\n",
              "\n",
              "      <script>\n",
              "        const buttonEl =\n",
              "          document.querySelector('#df-a83ca338-4cc2-4ea9-9fe9-263574ea5121 button.colab-df-convert');\n",
              "        buttonEl.style.display =\n",
              "          google.colab.kernel.accessAllowed ? 'block' : 'none';\n",
              "\n",
              "        async function convertToInteractive(key) {\n",
              "          const element = document.querySelector('#df-a83ca338-4cc2-4ea9-9fe9-263574ea5121');\n",
              "          const dataTable =\n",
              "            await google.colab.kernel.invokeFunction('convertToInteractive',\n",
              "                                                     [key], {});\n",
              "          if (!dataTable) return;\n",
              "\n",
              "          const docLinkHtml = 'Like what you see? Visit the ' +\n",
              "            '<a target=\"_blank\" href=https://colab.research.google.com/notebooks/data_table.ipynb>data table notebook</a>'\n",
              "            + ' to learn more about interactive tables.';\n",
              "          element.innerHTML = '';\n",
              "          dataTable['output_type'] = 'display_data';\n",
              "          await google.colab.output.renderOutput(dataTable, element);\n",
              "          const docLink = document.createElement('div');\n",
              "          docLink.innerHTML = docLinkHtml;\n",
              "          element.appendChild(docLink);\n",
              "        }\n",
              "      </script>\n",
              "    </div>\n",
              "  </div>\n",
              "  "
            ]
          },
          "metadata": {},
          "execution_count": 115
        }
      ]
    },
    {
      "cell_type": "code",
      "source": [
        "# DataFrame을 이루고 있는 column 별 데이터의 타입을 확인합니다.\n",
        "\n",
        "data.dtypes"
      ],
      "metadata": {
        "id": "nUIYJzklOLCy",
        "outputId": "6546e708-c4af-44ad-dd95-64d12c4a48bf",
        "colab": {
          "base_uri": "https://localhost:8080/"
        }
      },
      "execution_count": 92,
      "outputs": [
        {
          "output_type": "execute_result",
          "data": {
            "text/plain": [
              "ID                                int64\n",
              "Loan Amount                       int64\n",
              "Funded Amount                     int64\n",
              "Funded Amount Investor          float64\n",
              "Term                              int64\n",
              "Batch Enrolled                   object\n",
              "Interest Rate                   float64\n",
              "Grade                            object\n",
              "Sub Grade                        object\n",
              "Employment Duration              object\n",
              "Home Ownership                  float64\n",
              "Verification Status              object\n",
              "Payment Plan                     object\n",
              "Loan Title                       object\n",
              "Debit to Income                 float64\n",
              "Delinquency - two years           int64\n",
              "Inquires - six months             int64\n",
              "Open Account                      int64\n",
              "Public Record                     int64\n",
              "Revolving Balance                 int64\n",
              "Revolving Utilities             float64\n",
              "Total Accounts                    int64\n",
              "Initial List Status              object\n",
              "Total Received Interest         float64\n",
              "Total Received Late Fee         float64\n",
              "Recoveries                      float64\n",
              "Collection Recovery Fee         float64\n",
              "Collection 12 months Medical      int64\n",
              "Application Type                 object\n",
              "Last week Pay                     int64\n",
              "Accounts Delinquent               int64\n",
              "Total Collection Amount           int64\n",
              "Total Current Balance             int64\n",
              "Total Revolving Credit Limit      int64\n",
              "Loan Status                       int64\n",
              "dtype: object"
            ]
          },
          "metadata": {},
          "execution_count": 92
        }
      ]
    },
    {
      "cell_type": "code",
      "source": [
        "# describe()는 각 column에 대해 통계량을 요약해주는 함수입니다.\n",
        "# 기본적으로 NaN(누락데이터)는 제외하고 데이터 요약이 수행됩니다.\n",
        "\n",
        "data.describe()"
      ],
      "metadata": {
        "id": "o3-T5NZxONK4",
        "outputId": "383982fe-9edb-42c6-b836-178b88364ee8",
        "colab": {
          "base_uri": "https://localhost:8080/",
          "height": 445
        }
      },
      "execution_count": 93,
      "outputs": [
        {
          "output_type": "execute_result",
          "data": {
            "text/plain": [
              "                 ID   Loan Amount  Funded Amount  Funded Amount Investor  \\\n",
              "count  6.746300e+04  67463.000000   67463.000000            67463.000000   \n",
              "mean   2.562761e+07  16848.902776   15770.599114            14621.799323   \n",
              "std    2.109155e+07   8367.865726    8150.992662             6785.345170   \n",
              "min    1.297933e+06   1014.000000    1014.000000             1114.590204   \n",
              "25%    6.570288e+06  10012.000000    9266.500000             9831.684984   \n",
              "50%    1.791565e+07  16073.000000   13042.000000            12793.682170   \n",
              "75%    4.271521e+07  22106.000000   21793.000000            17807.594120   \n",
              "max    7.224578e+07  35000.000000   34999.000000            34999.746430   \n",
              "\n",
              "               Term  Interest Rate  Home Ownership  Debit to Income  \\\n",
              "count  67463.000000   67463.000000    67463.000000     67463.000000   \n",
              "mean      58.173814      11.846258    80541.502522        23.299241   \n",
              "std        3.327441       3.718629    45029.120366         8.451824   \n",
              "min       36.000000       5.320006    14573.537170         0.675299   \n",
              "25%       58.000000       9.297147    51689.843335        16.756416   \n",
              "50%       59.000000      11.377696    69335.832680        22.656658   \n",
              "75%       59.000000      14.193533    94623.322785        30.048400   \n",
              "max       59.000000      27.182348   406561.536400        39.629862   \n",
              "\n",
              "       Delinquency - two years  Inquires - six months  ...  \\\n",
              "count             67463.000000           67463.000000  ...   \n",
              "mean                  0.327127               0.145754  ...   \n",
              "std                   0.800888               0.473291  ...   \n",
              "min                   0.000000               0.000000  ...   \n",
              "25%                   0.000000               0.000000  ...   \n",
              "50%                   0.000000               0.000000  ...   \n",
              "75%                   0.000000               0.000000  ...   \n",
              "max                   8.000000               5.000000  ...   \n",
              "\n",
              "       Total Received Late Fee    Recoveries  Collection Recovery Fee  \\\n",
              "count             67463.000000  67463.000000             67463.000000   \n",
              "mean                  1.143969     59.691578                 1.125141   \n",
              "std                   5.244365    357.026346                 3.489885   \n",
              "min                   0.000003      0.000036                 0.000036   \n",
              "25%                   0.021114      1.629818                 0.476259   \n",
              "50%                   0.043398      3.344524                 0.780141   \n",
              "75%                   0.071884      5.453727                 1.070566   \n",
              "max                  42.618882   4354.467419               166.833000   \n",
              "\n",
              "       Collection 12 months Medical  Last week Pay  Accounts Delinquent  \\\n",
              "count                  67463.000000   67463.000000              67463.0   \n",
              "mean                       0.021301      71.163260                  0.0   \n",
              "std                        0.144385      43.315845                  0.0   \n",
              "min                        0.000000       0.000000                  0.0   \n",
              "25%                        0.000000      35.000000                  0.0   \n",
              "50%                        0.000000      68.000000                  0.0   \n",
              "75%                        0.000000     105.000000                  0.0   \n",
              "max                        1.000000     161.000000                  0.0   \n",
              "\n",
              "       Total Collection Amount  Total Current Balance  \\\n",
              "count             67463.000000           6.746300e+04   \n",
              "mean                146.467990           1.595739e+05   \n",
              "std                 744.382233           1.390332e+05   \n",
              "min                   1.000000           6.170000e+02   \n",
              "25%                  24.000000           5.037900e+04   \n",
              "50%                  36.000000           1.183690e+05   \n",
              "75%                  46.000000           2.283750e+05   \n",
              "max               16421.000000           1.177412e+06   \n",
              "\n",
              "       Total Revolving Credit Limit   Loan Status  \n",
              "count                  67463.000000  67463.000000  \n",
              "mean                   23123.005544      0.092510  \n",
              "std                    20916.699999      0.289747  \n",
              "min                     1000.000000      0.000000  \n",
              "25%                     8155.500000      0.000000  \n",
              "50%                    16733.000000      0.000000  \n",
              "75%                    32146.500000      0.000000  \n",
              "max                   201169.000000      1.000000  \n",
              "\n",
              "[8 rows x 26 columns]"
            ],
            "text/html": [
              "\n",
              "  <div id=\"df-9ed4d9c6-ed57-418e-ae7f-4e6be090b870\">\n",
              "    <div class=\"colab-df-container\">\n",
              "      <div>\n",
              "<style scoped>\n",
              "    .dataframe tbody tr th:only-of-type {\n",
              "        vertical-align: middle;\n",
              "    }\n",
              "\n",
              "    .dataframe tbody tr th {\n",
              "        vertical-align: top;\n",
              "    }\n",
              "\n",
              "    .dataframe thead th {\n",
              "        text-align: right;\n",
              "    }\n",
              "</style>\n",
              "<table border=\"1\" class=\"dataframe\">\n",
              "  <thead>\n",
              "    <tr style=\"text-align: right;\">\n",
              "      <th></th>\n",
              "      <th>ID</th>\n",
              "      <th>Loan Amount</th>\n",
              "      <th>Funded Amount</th>\n",
              "      <th>Funded Amount Investor</th>\n",
              "      <th>Term</th>\n",
              "      <th>Interest Rate</th>\n",
              "      <th>Home Ownership</th>\n",
              "      <th>Debit to Income</th>\n",
              "      <th>Delinquency - two years</th>\n",
              "      <th>Inquires - six months</th>\n",
              "      <th>...</th>\n",
              "      <th>Total Received Late Fee</th>\n",
              "      <th>Recoveries</th>\n",
              "      <th>Collection Recovery Fee</th>\n",
              "      <th>Collection 12 months Medical</th>\n",
              "      <th>Last week Pay</th>\n",
              "      <th>Accounts Delinquent</th>\n",
              "      <th>Total Collection Amount</th>\n",
              "      <th>Total Current Balance</th>\n",
              "      <th>Total Revolving Credit Limit</th>\n",
              "      <th>Loan Status</th>\n",
              "    </tr>\n",
              "  </thead>\n",
              "  <tbody>\n",
              "    <tr>\n",
              "      <th>count</th>\n",
              "      <td>6.746300e+04</td>\n",
              "      <td>67463.000000</td>\n",
              "      <td>67463.000000</td>\n",
              "      <td>67463.000000</td>\n",
              "      <td>67463.000000</td>\n",
              "      <td>67463.000000</td>\n",
              "      <td>67463.000000</td>\n",
              "      <td>67463.000000</td>\n",
              "      <td>67463.000000</td>\n",
              "      <td>67463.000000</td>\n",
              "      <td>...</td>\n",
              "      <td>67463.000000</td>\n",
              "      <td>67463.000000</td>\n",
              "      <td>67463.000000</td>\n",
              "      <td>67463.000000</td>\n",
              "      <td>67463.000000</td>\n",
              "      <td>67463.0</td>\n",
              "      <td>67463.000000</td>\n",
              "      <td>6.746300e+04</td>\n",
              "      <td>67463.000000</td>\n",
              "      <td>67463.000000</td>\n",
              "    </tr>\n",
              "    <tr>\n",
              "      <th>mean</th>\n",
              "      <td>2.562761e+07</td>\n",
              "      <td>16848.902776</td>\n",
              "      <td>15770.599114</td>\n",
              "      <td>14621.799323</td>\n",
              "      <td>58.173814</td>\n",
              "      <td>11.846258</td>\n",
              "      <td>80541.502522</td>\n",
              "      <td>23.299241</td>\n",
              "      <td>0.327127</td>\n",
              "      <td>0.145754</td>\n",
              "      <td>...</td>\n",
              "      <td>1.143969</td>\n",
              "      <td>59.691578</td>\n",
              "      <td>1.125141</td>\n",
              "      <td>0.021301</td>\n",
              "      <td>71.163260</td>\n",
              "      <td>0.0</td>\n",
              "      <td>146.467990</td>\n",
              "      <td>1.595739e+05</td>\n",
              "      <td>23123.005544</td>\n",
              "      <td>0.092510</td>\n",
              "    </tr>\n",
              "    <tr>\n",
              "      <th>std</th>\n",
              "      <td>2.109155e+07</td>\n",
              "      <td>8367.865726</td>\n",
              "      <td>8150.992662</td>\n",
              "      <td>6785.345170</td>\n",
              "      <td>3.327441</td>\n",
              "      <td>3.718629</td>\n",
              "      <td>45029.120366</td>\n",
              "      <td>8.451824</td>\n",
              "      <td>0.800888</td>\n",
              "      <td>0.473291</td>\n",
              "      <td>...</td>\n",
              "      <td>5.244365</td>\n",
              "      <td>357.026346</td>\n",
              "      <td>3.489885</td>\n",
              "      <td>0.144385</td>\n",
              "      <td>43.315845</td>\n",
              "      <td>0.0</td>\n",
              "      <td>744.382233</td>\n",
              "      <td>1.390332e+05</td>\n",
              "      <td>20916.699999</td>\n",
              "      <td>0.289747</td>\n",
              "    </tr>\n",
              "    <tr>\n",
              "      <th>min</th>\n",
              "      <td>1.297933e+06</td>\n",
              "      <td>1014.000000</td>\n",
              "      <td>1014.000000</td>\n",
              "      <td>1114.590204</td>\n",
              "      <td>36.000000</td>\n",
              "      <td>5.320006</td>\n",
              "      <td>14573.537170</td>\n",
              "      <td>0.675299</td>\n",
              "      <td>0.000000</td>\n",
              "      <td>0.000000</td>\n",
              "      <td>...</td>\n",
              "      <td>0.000003</td>\n",
              "      <td>0.000036</td>\n",
              "      <td>0.000036</td>\n",
              "      <td>0.000000</td>\n",
              "      <td>0.000000</td>\n",
              "      <td>0.0</td>\n",
              "      <td>1.000000</td>\n",
              "      <td>6.170000e+02</td>\n",
              "      <td>1000.000000</td>\n",
              "      <td>0.000000</td>\n",
              "    </tr>\n",
              "    <tr>\n",
              "      <th>25%</th>\n",
              "      <td>6.570288e+06</td>\n",
              "      <td>10012.000000</td>\n",
              "      <td>9266.500000</td>\n",
              "      <td>9831.684984</td>\n",
              "      <td>58.000000</td>\n",
              "      <td>9.297147</td>\n",
              "      <td>51689.843335</td>\n",
              "      <td>16.756416</td>\n",
              "      <td>0.000000</td>\n",
              "      <td>0.000000</td>\n",
              "      <td>...</td>\n",
              "      <td>0.021114</td>\n",
              "      <td>1.629818</td>\n",
              "      <td>0.476259</td>\n",
              "      <td>0.000000</td>\n",
              "      <td>35.000000</td>\n",
              "      <td>0.0</td>\n",
              "      <td>24.000000</td>\n",
              "      <td>5.037900e+04</td>\n",
              "      <td>8155.500000</td>\n",
              "      <td>0.000000</td>\n",
              "    </tr>\n",
              "    <tr>\n",
              "      <th>50%</th>\n",
              "      <td>1.791565e+07</td>\n",
              "      <td>16073.000000</td>\n",
              "      <td>13042.000000</td>\n",
              "      <td>12793.682170</td>\n",
              "      <td>59.000000</td>\n",
              "      <td>11.377696</td>\n",
              "      <td>69335.832680</td>\n",
              "      <td>22.656658</td>\n",
              "      <td>0.000000</td>\n",
              "      <td>0.000000</td>\n",
              "      <td>...</td>\n",
              "      <td>0.043398</td>\n",
              "      <td>3.344524</td>\n",
              "      <td>0.780141</td>\n",
              "      <td>0.000000</td>\n",
              "      <td>68.000000</td>\n",
              "      <td>0.0</td>\n",
              "      <td>36.000000</td>\n",
              "      <td>1.183690e+05</td>\n",
              "      <td>16733.000000</td>\n",
              "      <td>0.000000</td>\n",
              "    </tr>\n",
              "    <tr>\n",
              "      <th>75%</th>\n",
              "      <td>4.271521e+07</td>\n",
              "      <td>22106.000000</td>\n",
              "      <td>21793.000000</td>\n",
              "      <td>17807.594120</td>\n",
              "      <td>59.000000</td>\n",
              "      <td>14.193533</td>\n",
              "      <td>94623.322785</td>\n",
              "      <td>30.048400</td>\n",
              "      <td>0.000000</td>\n",
              "      <td>0.000000</td>\n",
              "      <td>...</td>\n",
              "      <td>0.071884</td>\n",
              "      <td>5.453727</td>\n",
              "      <td>1.070566</td>\n",
              "      <td>0.000000</td>\n",
              "      <td>105.000000</td>\n",
              "      <td>0.0</td>\n",
              "      <td>46.000000</td>\n",
              "      <td>2.283750e+05</td>\n",
              "      <td>32146.500000</td>\n",
              "      <td>0.000000</td>\n",
              "    </tr>\n",
              "    <tr>\n",
              "      <th>max</th>\n",
              "      <td>7.224578e+07</td>\n",
              "      <td>35000.000000</td>\n",
              "      <td>34999.000000</td>\n",
              "      <td>34999.746430</td>\n",
              "      <td>59.000000</td>\n",
              "      <td>27.182348</td>\n",
              "      <td>406561.536400</td>\n",
              "      <td>39.629862</td>\n",
              "      <td>8.000000</td>\n",
              "      <td>5.000000</td>\n",
              "      <td>...</td>\n",
              "      <td>42.618882</td>\n",
              "      <td>4354.467419</td>\n",
              "      <td>166.833000</td>\n",
              "      <td>1.000000</td>\n",
              "      <td>161.000000</td>\n",
              "      <td>0.0</td>\n",
              "      <td>16421.000000</td>\n",
              "      <td>1.177412e+06</td>\n",
              "      <td>201169.000000</td>\n",
              "      <td>1.000000</td>\n",
              "    </tr>\n",
              "  </tbody>\n",
              "</table>\n",
              "<p>8 rows × 26 columns</p>\n",
              "</div>\n",
              "      <button class=\"colab-df-convert\" onclick=\"convertToInteractive('df-9ed4d9c6-ed57-418e-ae7f-4e6be090b870')\"\n",
              "              title=\"Convert this dataframe to an interactive table.\"\n",
              "              style=\"display:none;\">\n",
              "        \n",
              "  <svg xmlns=\"http://www.w3.org/2000/svg\" height=\"24px\"viewBox=\"0 0 24 24\"\n",
              "       width=\"24px\">\n",
              "    <path d=\"M0 0h24v24H0V0z\" fill=\"none\"/>\n",
              "    <path d=\"M18.56 5.44l.94 2.06.94-2.06 2.06-.94-2.06-.94-.94-2.06-.94 2.06-2.06.94zm-11 1L8.5 8.5l.94-2.06 2.06-.94-2.06-.94L8.5 2.5l-.94 2.06-2.06.94zm10 10l.94 2.06.94-2.06 2.06-.94-2.06-.94-.94-2.06-.94 2.06-2.06.94z\"/><path d=\"M17.41 7.96l-1.37-1.37c-.4-.4-.92-.59-1.43-.59-.52 0-1.04.2-1.43.59L10.3 9.45l-7.72 7.72c-.78.78-.78 2.05 0 2.83L4 21.41c.39.39.9.59 1.41.59.51 0 1.02-.2 1.41-.59l7.78-7.78 2.81-2.81c.8-.78.8-2.07 0-2.86zM5.41 20L4 18.59l7.72-7.72 1.47 1.35L5.41 20z\"/>\n",
              "  </svg>\n",
              "      </button>\n",
              "      \n",
              "  <style>\n",
              "    .colab-df-container {\n",
              "      display:flex;\n",
              "      flex-wrap:wrap;\n",
              "      gap: 12px;\n",
              "    }\n",
              "\n",
              "    .colab-df-convert {\n",
              "      background-color: #E8F0FE;\n",
              "      border: none;\n",
              "      border-radius: 50%;\n",
              "      cursor: pointer;\n",
              "      display: none;\n",
              "      fill: #1967D2;\n",
              "      height: 32px;\n",
              "      padding: 0 0 0 0;\n",
              "      width: 32px;\n",
              "    }\n",
              "\n",
              "    .colab-df-convert:hover {\n",
              "      background-color: #E2EBFA;\n",
              "      box-shadow: 0px 1px 2px rgba(60, 64, 67, 0.3), 0px 1px 3px 1px rgba(60, 64, 67, 0.15);\n",
              "      fill: #174EA6;\n",
              "    }\n",
              "\n",
              "    [theme=dark] .colab-df-convert {\n",
              "      background-color: #3B4455;\n",
              "      fill: #D2E3FC;\n",
              "    }\n",
              "\n",
              "    [theme=dark] .colab-df-convert:hover {\n",
              "      background-color: #434B5C;\n",
              "      box-shadow: 0px 1px 3px 1px rgba(0, 0, 0, 0.15);\n",
              "      filter: drop-shadow(0px 1px 2px rgba(0, 0, 0, 0.3));\n",
              "      fill: #FFFFFF;\n",
              "    }\n",
              "  </style>\n",
              "\n",
              "      <script>\n",
              "        const buttonEl =\n",
              "          document.querySelector('#df-9ed4d9c6-ed57-418e-ae7f-4e6be090b870 button.colab-df-convert');\n",
              "        buttonEl.style.display =\n",
              "          google.colab.kernel.accessAllowed ? 'block' : 'none';\n",
              "\n",
              "        async function convertToInteractive(key) {\n",
              "          const element = document.querySelector('#df-9ed4d9c6-ed57-418e-ae7f-4e6be090b870');\n",
              "          const dataTable =\n",
              "            await google.colab.kernel.invokeFunction('convertToInteractive',\n",
              "                                                     [key], {});\n",
              "          if (!dataTable) return;\n",
              "\n",
              "          const docLinkHtml = 'Like what you see? Visit the ' +\n",
              "            '<a target=\"_blank\" href=https://colab.research.google.com/notebooks/data_table.ipynb>data table notebook</a>'\n",
              "            + ' to learn more about interactive tables.';\n",
              "          element.innerHTML = '';\n",
              "          dataTable['output_type'] = 'display_data';\n",
              "          await google.colab.output.renderOutput(dataTable, element);\n",
              "          const docLink = document.createElement('div');\n",
              "          docLink.innerHTML = docLinkHtml;\n",
              "          element.appendChild(docLink);\n",
              "        }\n",
              "      </script>\n",
              "    </div>\n",
              "  </div>\n",
              "  "
            ]
          },
          "metadata": {},
          "execution_count": 93
        }
      ]
    },
    {
      "cell_type": "markdown",
      "source": [
        "## 결측값과 중복값 확인하기\n",
        "결측값과 중복값은 데이터 분석 결과에 큰 영향을 줍니다.   \n",
        "제공된 데이터에 결측값과 중복값이 있는지 알아봅시다."
      ],
      "metadata": {
        "id": "QwnVTl0WOWoc"
      }
    },
    {
      "cell_type": "code",
      "source": [
        "# isnull()는 DataFrame에 있는 결측치(NA)를 boolean 값으로 반환하는 함수입니다.\n",
        "# 결측치가 있으면 True를 반환합니다.\n",
        "\n",
        "data.isnull().head()"
      ],
      "metadata": {
        "id": "JKSbfuRNOZ0I",
        "outputId": "d3b8ec17-4be0-474e-e170-6fa06450945c",
        "colab": {
          "base_uri": "https://localhost:8080/",
          "height": 314
        }
      },
      "execution_count": 94,
      "outputs": [
        {
          "output_type": "execute_result",
          "data": {
            "text/plain": [
              "      ID  Loan Amount  Funded Amount  Funded Amount Investor   Term  \\\n",
              "0  False        False          False                   False  False   \n",
              "1  False        False          False                   False  False   \n",
              "2  False        False          False                   False  False   \n",
              "3  False        False          False                   False  False   \n",
              "4  False        False          False                   False  False   \n",
              "\n",
              "   Batch Enrolled  Interest Rate  Grade  Sub Grade  Employment Duration  ...  \\\n",
              "0           False          False  False      False                False  ...   \n",
              "1           False          False  False      False                False  ...   \n",
              "2           False          False  False      False                False  ...   \n",
              "3           False          False  False      False                False  ...   \n",
              "4           False          False  False      False                False  ...   \n",
              "\n",
              "   Recoveries  Collection Recovery Fee  Collection 12 months Medical  \\\n",
              "0       False                    False                         False   \n",
              "1       False                    False                         False   \n",
              "2       False                    False                         False   \n",
              "3       False                    False                         False   \n",
              "4       False                    False                         False   \n",
              "\n",
              "   Application Type  Last week Pay  Accounts Delinquent  \\\n",
              "0             False          False                False   \n",
              "1             False          False                False   \n",
              "2             False          False                False   \n",
              "3             False          False                False   \n",
              "4             False          False                False   \n",
              "\n",
              "   Total Collection Amount  Total Current Balance  \\\n",
              "0                    False                  False   \n",
              "1                    False                  False   \n",
              "2                    False                  False   \n",
              "3                    False                  False   \n",
              "4                    False                  False   \n",
              "\n",
              "   Total Revolving Credit Limit  Loan Status  \n",
              "0                         False        False  \n",
              "1                         False        False  \n",
              "2                         False        False  \n",
              "3                         False        False  \n",
              "4                         False        False  \n",
              "\n",
              "[5 rows x 35 columns]"
            ],
            "text/html": [
              "\n",
              "  <div id=\"df-91a07c5b-2bcc-4850-88aa-4585dd85fc91\">\n",
              "    <div class=\"colab-df-container\">\n",
              "      <div>\n",
              "<style scoped>\n",
              "    .dataframe tbody tr th:only-of-type {\n",
              "        vertical-align: middle;\n",
              "    }\n",
              "\n",
              "    .dataframe tbody tr th {\n",
              "        vertical-align: top;\n",
              "    }\n",
              "\n",
              "    .dataframe thead th {\n",
              "        text-align: right;\n",
              "    }\n",
              "</style>\n",
              "<table border=\"1\" class=\"dataframe\">\n",
              "  <thead>\n",
              "    <tr style=\"text-align: right;\">\n",
              "      <th></th>\n",
              "      <th>ID</th>\n",
              "      <th>Loan Amount</th>\n",
              "      <th>Funded Amount</th>\n",
              "      <th>Funded Amount Investor</th>\n",
              "      <th>Term</th>\n",
              "      <th>Batch Enrolled</th>\n",
              "      <th>Interest Rate</th>\n",
              "      <th>Grade</th>\n",
              "      <th>Sub Grade</th>\n",
              "      <th>Employment Duration</th>\n",
              "      <th>...</th>\n",
              "      <th>Recoveries</th>\n",
              "      <th>Collection Recovery Fee</th>\n",
              "      <th>Collection 12 months Medical</th>\n",
              "      <th>Application Type</th>\n",
              "      <th>Last week Pay</th>\n",
              "      <th>Accounts Delinquent</th>\n",
              "      <th>Total Collection Amount</th>\n",
              "      <th>Total Current Balance</th>\n",
              "      <th>Total Revolving Credit Limit</th>\n",
              "      <th>Loan Status</th>\n",
              "    </tr>\n",
              "  </thead>\n",
              "  <tbody>\n",
              "    <tr>\n",
              "      <th>0</th>\n",
              "      <td>False</td>\n",
              "      <td>False</td>\n",
              "      <td>False</td>\n",
              "      <td>False</td>\n",
              "      <td>False</td>\n",
              "      <td>False</td>\n",
              "      <td>False</td>\n",
              "      <td>False</td>\n",
              "      <td>False</td>\n",
              "      <td>False</td>\n",
              "      <td>...</td>\n",
              "      <td>False</td>\n",
              "      <td>False</td>\n",
              "      <td>False</td>\n",
              "      <td>False</td>\n",
              "      <td>False</td>\n",
              "      <td>False</td>\n",
              "      <td>False</td>\n",
              "      <td>False</td>\n",
              "      <td>False</td>\n",
              "      <td>False</td>\n",
              "    </tr>\n",
              "    <tr>\n",
              "      <th>1</th>\n",
              "      <td>False</td>\n",
              "      <td>False</td>\n",
              "      <td>False</td>\n",
              "      <td>False</td>\n",
              "      <td>False</td>\n",
              "      <td>False</td>\n",
              "      <td>False</td>\n",
              "      <td>False</td>\n",
              "      <td>False</td>\n",
              "      <td>False</td>\n",
              "      <td>...</td>\n",
              "      <td>False</td>\n",
              "      <td>False</td>\n",
              "      <td>False</td>\n",
              "      <td>False</td>\n",
              "      <td>False</td>\n",
              "      <td>False</td>\n",
              "      <td>False</td>\n",
              "      <td>False</td>\n",
              "      <td>False</td>\n",
              "      <td>False</td>\n",
              "    </tr>\n",
              "    <tr>\n",
              "      <th>2</th>\n",
              "      <td>False</td>\n",
              "      <td>False</td>\n",
              "      <td>False</td>\n",
              "      <td>False</td>\n",
              "      <td>False</td>\n",
              "      <td>False</td>\n",
              "      <td>False</td>\n",
              "      <td>False</td>\n",
              "      <td>False</td>\n",
              "      <td>False</td>\n",
              "      <td>...</td>\n",
              "      <td>False</td>\n",
              "      <td>False</td>\n",
              "      <td>False</td>\n",
              "      <td>False</td>\n",
              "      <td>False</td>\n",
              "      <td>False</td>\n",
              "      <td>False</td>\n",
              "      <td>False</td>\n",
              "      <td>False</td>\n",
              "      <td>False</td>\n",
              "    </tr>\n",
              "    <tr>\n",
              "      <th>3</th>\n",
              "      <td>False</td>\n",
              "      <td>False</td>\n",
              "      <td>False</td>\n",
              "      <td>False</td>\n",
              "      <td>False</td>\n",
              "      <td>False</td>\n",
              "      <td>False</td>\n",
              "      <td>False</td>\n",
              "      <td>False</td>\n",
              "      <td>False</td>\n",
              "      <td>...</td>\n",
              "      <td>False</td>\n",
              "      <td>False</td>\n",
              "      <td>False</td>\n",
              "      <td>False</td>\n",
              "      <td>False</td>\n",
              "      <td>False</td>\n",
              "      <td>False</td>\n",
              "      <td>False</td>\n",
              "      <td>False</td>\n",
              "      <td>False</td>\n",
              "    </tr>\n",
              "    <tr>\n",
              "      <th>4</th>\n",
              "      <td>False</td>\n",
              "      <td>False</td>\n",
              "      <td>False</td>\n",
              "      <td>False</td>\n",
              "      <td>False</td>\n",
              "      <td>False</td>\n",
              "      <td>False</td>\n",
              "      <td>False</td>\n",
              "      <td>False</td>\n",
              "      <td>False</td>\n",
              "      <td>...</td>\n",
              "      <td>False</td>\n",
              "      <td>False</td>\n",
              "      <td>False</td>\n",
              "      <td>False</td>\n",
              "      <td>False</td>\n",
              "      <td>False</td>\n",
              "      <td>False</td>\n",
              "      <td>False</td>\n",
              "      <td>False</td>\n",
              "      <td>False</td>\n",
              "    </tr>\n",
              "  </tbody>\n",
              "</table>\n",
              "<p>5 rows × 35 columns</p>\n",
              "</div>\n",
              "      <button class=\"colab-df-convert\" onclick=\"convertToInteractive('df-91a07c5b-2bcc-4850-88aa-4585dd85fc91')\"\n",
              "              title=\"Convert this dataframe to an interactive table.\"\n",
              "              style=\"display:none;\">\n",
              "        \n",
              "  <svg xmlns=\"http://www.w3.org/2000/svg\" height=\"24px\"viewBox=\"0 0 24 24\"\n",
              "       width=\"24px\">\n",
              "    <path d=\"M0 0h24v24H0V0z\" fill=\"none\"/>\n",
              "    <path d=\"M18.56 5.44l.94 2.06.94-2.06 2.06-.94-2.06-.94-.94-2.06-.94 2.06-2.06.94zm-11 1L8.5 8.5l.94-2.06 2.06-.94-2.06-.94L8.5 2.5l-.94 2.06-2.06.94zm10 10l.94 2.06.94-2.06 2.06-.94-2.06-.94-.94-2.06-.94 2.06-2.06.94z\"/><path d=\"M17.41 7.96l-1.37-1.37c-.4-.4-.92-.59-1.43-.59-.52 0-1.04.2-1.43.59L10.3 9.45l-7.72 7.72c-.78.78-.78 2.05 0 2.83L4 21.41c.39.39.9.59 1.41.59.51 0 1.02-.2 1.41-.59l7.78-7.78 2.81-2.81c.8-.78.8-2.07 0-2.86zM5.41 20L4 18.59l7.72-7.72 1.47 1.35L5.41 20z\"/>\n",
              "  </svg>\n",
              "      </button>\n",
              "      \n",
              "  <style>\n",
              "    .colab-df-container {\n",
              "      display:flex;\n",
              "      flex-wrap:wrap;\n",
              "      gap: 12px;\n",
              "    }\n",
              "\n",
              "    .colab-df-convert {\n",
              "      background-color: #E8F0FE;\n",
              "      border: none;\n",
              "      border-radius: 50%;\n",
              "      cursor: pointer;\n",
              "      display: none;\n",
              "      fill: #1967D2;\n",
              "      height: 32px;\n",
              "      padding: 0 0 0 0;\n",
              "      width: 32px;\n",
              "    }\n",
              "\n",
              "    .colab-df-convert:hover {\n",
              "      background-color: #E2EBFA;\n",
              "      box-shadow: 0px 1px 2px rgba(60, 64, 67, 0.3), 0px 1px 3px 1px rgba(60, 64, 67, 0.15);\n",
              "      fill: #174EA6;\n",
              "    }\n",
              "\n",
              "    [theme=dark] .colab-df-convert {\n",
              "      background-color: #3B4455;\n",
              "      fill: #D2E3FC;\n",
              "    }\n",
              "\n",
              "    [theme=dark] .colab-df-convert:hover {\n",
              "      background-color: #434B5C;\n",
              "      box-shadow: 0px 1px 3px 1px rgba(0, 0, 0, 0.15);\n",
              "      filter: drop-shadow(0px 1px 2px rgba(0, 0, 0, 0.3));\n",
              "      fill: #FFFFFF;\n",
              "    }\n",
              "  </style>\n",
              "\n",
              "      <script>\n",
              "        const buttonEl =\n",
              "          document.querySelector('#df-91a07c5b-2bcc-4850-88aa-4585dd85fc91 button.colab-df-convert');\n",
              "        buttonEl.style.display =\n",
              "          google.colab.kernel.accessAllowed ? 'block' : 'none';\n",
              "\n",
              "        async function convertToInteractive(key) {\n",
              "          const element = document.querySelector('#df-91a07c5b-2bcc-4850-88aa-4585dd85fc91');\n",
              "          const dataTable =\n",
              "            await google.colab.kernel.invokeFunction('convertToInteractive',\n",
              "                                                     [key], {});\n",
              "          if (!dataTable) return;\n",
              "\n",
              "          const docLinkHtml = 'Like what you see? Visit the ' +\n",
              "            '<a target=\"_blank\" href=https://colab.research.google.com/notebooks/data_table.ipynb>data table notebook</a>'\n",
              "            + ' to learn more about interactive tables.';\n",
              "          element.innerHTML = '';\n",
              "          dataTable['output_type'] = 'display_data';\n",
              "          await google.colab.output.renderOutput(dataTable, element);\n",
              "          const docLink = document.createElement('div');\n",
              "          docLink.innerHTML = docLinkHtml;\n",
              "          element.appendChild(docLink);\n",
              "        }\n",
              "      </script>\n",
              "    </div>\n",
              "  </div>\n",
              "  "
            ]
          },
          "metadata": {},
          "execution_count": 94
        }
      ]
    },
    {
      "cell_type": "code",
      "source": [
        "# isnull()에 sum() 를 결합하여 DataFrame에 있는 결측치의 합을 구합니다.\n",
        "\n",
        "data.isnull().sum() \n",
        "# 현재 데이터에서는 결측치가 없습니다. \n",
        "# 데이터에 결측치가 있는 경우, 결측값을 갖는 데이터를 삭제하거나 결측값을 보정하여 채우는 방법으로 결측치를 처리하여야 합니다."
      ],
      "metadata": {
        "id": "B-7xaXlZOcYI",
        "outputId": "7c10d172-52d3-40bc-fed3-ef5d4dd2c6d0",
        "colab": {
          "base_uri": "https://localhost:8080/"
        }
      },
      "execution_count": 95,
      "outputs": [
        {
          "output_type": "execute_result",
          "data": {
            "text/plain": [
              "ID                              0\n",
              "Loan Amount                     0\n",
              "Funded Amount                   0\n",
              "Funded Amount Investor          0\n",
              "Term                            0\n",
              "Batch Enrolled                  0\n",
              "Interest Rate                   0\n",
              "Grade                           0\n",
              "Sub Grade                       0\n",
              "Employment Duration             0\n",
              "Home Ownership                  0\n",
              "Verification Status             0\n",
              "Payment Plan                    0\n",
              "Loan Title                      0\n",
              "Debit to Income                 0\n",
              "Delinquency - two years         0\n",
              "Inquires - six months           0\n",
              "Open Account                    0\n",
              "Public Record                   0\n",
              "Revolving Balance               0\n",
              "Revolving Utilities             0\n",
              "Total Accounts                  0\n",
              "Initial List Status             0\n",
              "Total Received Interest         0\n",
              "Total Received Late Fee         0\n",
              "Recoveries                      0\n",
              "Collection Recovery Fee         0\n",
              "Collection 12 months Medical    0\n",
              "Application Type                0\n",
              "Last week Pay                   0\n",
              "Accounts Delinquent             0\n",
              "Total Collection Amount         0\n",
              "Total Current Balance           0\n",
              "Total Revolving Credit Limit    0\n",
              "Loan Status                     0\n",
              "dtype: int64"
            ]
          },
          "metadata": {},
          "execution_count": 95
        }
      ]
    },
    {
      "cell_type": "code",
      "source": [
        "# duplicated()는 중복된 데이터를 Series 형식으로 반환합니다.\n",
        "\n",
        "data.duplicated()"
      ],
      "metadata": {
        "id": "CcJX2TvFO_SN",
        "outputId": "680843c8-dd97-4eb8-b365-8e29d647b59c",
        "colab": {
          "base_uri": "https://localhost:8080/"
        }
      },
      "execution_count": 96,
      "outputs": [
        {
          "output_type": "execute_result",
          "data": {
            "text/plain": [
              "0        False\n",
              "1        False\n",
              "2        False\n",
              "3        False\n",
              "4        False\n",
              "         ...  \n",
              "67458    False\n",
              "67459    False\n",
              "67460    False\n",
              "67461    False\n",
              "67462    False\n",
              "Length: 67463, dtype: bool"
            ]
          },
          "metadata": {},
          "execution_count": 96
        }
      ]
    },
    {
      "cell_type": "code",
      "source": [
        "# duplicated()에 sum()을 결합하여 DataFrame에 있는 중복 데이터의 합을 구합니다.\n",
        "\n",
        "data.duplicated().sum()"
      ],
      "metadata": {
        "id": "mx3WIDJ2PAah",
        "outputId": "43579e9f-5bb9-4c65-e933-aeb47599ce49",
        "colab": {
          "base_uri": "https://localhost:8080/"
        }
      },
      "execution_count": 97,
      "outputs": [
        {
          "output_type": "execute_result",
          "data": {
            "text/plain": [
              "0"
            ]
          },
          "metadata": {},
          "execution_count": 97
        }
      ]
    },
    {
      "cell_type": "markdown",
      "source": [
        "## 문제 1 :: 데이터 정리"
      ],
      "metadata": {
        "id": "g2_OxCH0RK5i"
      }
    },
    {
      "cell_type": "markdown",
      "source": [
        "### 문제 1-1\n",
        "DataFrame data의 각 feature에 포함된 unique value의 개수를 구하고 그 개수를 출력하여 보고서에 캡처하여 첨부하세요 (힌트: pandas에 있는 함수 사용) "
      ],
      "metadata": {
        "id": "7JFDlxJdR0qu"
      }
    },
    {
      "cell_type": "code",
      "source": [
        "### 문제 1-1 ###\n",
        "# 코드 작성\n",
        "################\n",
        "data['ID'].nunique()"
      ],
      "metadata": {
        "id": "9yIt3AtpR9FJ",
        "outputId": "cb1a22ea-9f6f-4920-af8f-7bda36113de7",
        "colab": {
          "base_uri": "https://localhost:8080/"
        }
      },
      "execution_count": 98,
      "outputs": [
        {
          "output_type": "execute_result",
          "data": {
            "text/plain": [
              "67463"
            ]
          },
          "metadata": {},
          "execution_count": 98
        }
      ]
    },
    {
      "cell_type": "code",
      "source": [
        "data['Loan Amount'].nunique()"
      ],
      "metadata": {
        "id": "qH1spY7c_ced",
        "outputId": "b4a3fb12-cb23-4a29-a0a7-c5669354259a",
        "colab": {
          "base_uri": "https://localhost:8080/"
        }
      },
      "execution_count": 99,
      "outputs": [
        {
          "output_type": "execute_result",
          "data": {
            "text/plain": [
              "27525"
            ]
          },
          "metadata": {},
          "execution_count": 99
        }
      ]
    },
    {
      "cell_type": "code",
      "source": [
        "data['Funded Amount'].nunique()"
      ],
      "metadata": {
        "id": "W33bpojc_gtk",
        "outputId": "c65b3e22-78d6-4416-8265-649211734b1d",
        "colab": {
          "base_uri": "https://localhost:8080/"
        }
      },
      "execution_count": 46,
      "outputs": [
        {
          "output_type": "execute_result",
          "data": {
            "text/plain": [
              "24548"
            ]
          },
          "metadata": {},
          "execution_count": 46
        }
      ]
    },
    {
      "cell_type": "code",
      "source": [
        "data['Funded Amount Investor'].nunique()"
      ],
      "metadata": {
        "id": "iGsO4RA-_kCw",
        "outputId": "ab5b5cd4-9603-4b60-c864-8688b3fbf5bf",
        "colab": {
          "base_uri": "https://localhost:8080/"
        }
      },
      "execution_count": 48,
      "outputs": [
        {
          "output_type": "execute_result",
          "data": {
            "text/plain": [
              "67441"
            ]
          },
          "metadata": {},
          "execution_count": 48
        }
      ]
    },
    {
      "cell_type": "code",
      "source": [
        "data['Term'].nunique()"
      ],
      "metadata": {
        "id": "CeLKlYrC_qUH",
        "outputId": "5aec78f9-d2ba-4c08-ae4e-12a66ca239e4",
        "colab": {
          "base_uri": "https://localhost:8080/"
        }
      },
      "execution_count": 49,
      "outputs": [
        {
          "output_type": "execute_result",
          "data": {
            "text/plain": [
              "3"
            ]
          },
          "metadata": {},
          "execution_count": 49
        }
      ]
    },
    {
      "cell_type": "code",
      "source": [
        "data['Interest Rate'].nunique()"
      ],
      "metadata": {
        "id": "bm-OGcuJ_sYK",
        "outputId": "3a537f3e-2a63-4168-d245-9aef50841006",
        "colab": {
          "base_uri": "https://localhost:8080/"
        }
      },
      "execution_count": 50,
      "outputs": [
        {
          "output_type": "execute_result",
          "data": {
            "text/plain": [
              "67448"
            ]
          },
          "metadata": {},
          "execution_count": 50
        }
      ]
    },
    {
      "cell_type": "code",
      "source": [
        "data['Grade'].nunique()"
      ],
      "metadata": {
        "id": "FXSLRymm_xCs",
        "outputId": "800af547-01d2-4f25-b336-9cfa5973316f",
        "colab": {
          "base_uri": "https://localhost:8080/"
        }
      },
      "execution_count": 51,
      "outputs": [
        {
          "output_type": "execute_result",
          "data": {
            "text/plain": [
              "7"
            ]
          },
          "metadata": {},
          "execution_count": 51
        }
      ]
    },
    {
      "cell_type": "code",
      "source": [
        "data['Sub Grade'].nunique()"
      ],
      "metadata": {
        "id": "HeaXCfp9_zNt",
        "outputId": "7d0c2a18-3d8d-43b4-d275-32a3daf8662b",
        "colab": {
          "base_uri": "https://localhost:8080/"
        }
      },
      "execution_count": 52,
      "outputs": [
        {
          "output_type": "execute_result",
          "data": {
            "text/plain": [
              "35"
            ]
          },
          "metadata": {},
          "execution_count": 52
        }
      ]
    },
    {
      "cell_type": "code",
      "source": [
        "data['Employment Duration'].nunique()"
      ],
      "metadata": {
        "id": "gB-VDTWY_1oe",
        "outputId": "400911c3-b29a-4850-8ea5-233f2e80e69a",
        "colab": {
          "base_uri": "https://localhost:8080/"
        }
      },
      "execution_count": 53,
      "outputs": [
        {
          "output_type": "execute_result",
          "data": {
            "text/plain": [
              "3"
            ]
          },
          "metadata": {},
          "execution_count": 53
        }
      ]
    },
    {
      "cell_type": "code",
      "source": [
        "data['Loan Status'].nunique()"
      ],
      "metadata": {
        "id": "I5S2x_K__52R",
        "outputId": "5293c444-ebb2-4eb7-99d1-b4d7a107988c",
        "colab": {
          "base_uri": "https://localhost:8080/"
        }
      },
      "execution_count": 54,
      "outputs": [
        {
          "output_type": "execute_result",
          "data": {
            "text/plain": [
              "2"
            ]
          },
          "metadata": {},
          "execution_count": 54
        }
      ]
    },
    {
      "cell_type": "code",
      "source": [
        "data['Employment Duration'].nunique()"
      ],
      "metadata": {
        "id": "43fvpLReAbH6",
        "outputId": "e07414e2-0283-4c33-8f22-ee3a385188d8",
        "colab": {
          "base_uri": "https://localhost:8080/"
        }
      },
      "execution_count": 55,
      "outputs": [
        {
          "output_type": "execute_result",
          "data": {
            "text/plain": [
              "3"
            ]
          },
          "metadata": {},
          "execution_count": 55
        }
      ]
    },
    {
      "cell_type": "code",
      "source": [
        "data['Recoveries'].nunique()"
      ],
      "metadata": {
        "id": "JgIUc6JDAbEq",
        "outputId": "5561756c-9909-4756-8307-06891608f133",
        "colab": {
          "base_uri": "https://localhost:8080/"
        }
      },
      "execution_count": 56,
      "outputs": [
        {
          "output_type": "execute_result",
          "data": {
            "text/plain": [
              "67387"
            ]
          },
          "metadata": {},
          "execution_count": 56
        }
      ]
    },
    {
      "cell_type": "code",
      "source": [
        "data['Collection Recovery Fee'].nunique()"
      ],
      "metadata": {
        "id": "GUBLzJmJAa-Q",
        "outputId": "69562e81-69aa-45e8-a397-498cba625639",
        "colab": {
          "base_uri": "https://localhost:8080/"
        }
      },
      "execution_count": 58,
      "outputs": [
        {
          "output_type": "execute_result",
          "data": {
            "text/plain": [
              "67313"
            ]
          },
          "metadata": {},
          "execution_count": 58
        }
      ]
    },
    {
      "cell_type": "code",
      "source": [
        "data['Collection 12 months Medical'].nunique()"
      ],
      "metadata": {
        "id": "pGFFN01WAao2",
        "outputId": "5025926c-4018-4eca-834c-cab98d08e1bd",
        "colab": {
          "base_uri": "https://localhost:8080/"
        }
      },
      "execution_count": 59,
      "outputs": [
        {
          "output_type": "execute_result",
          "data": {
            "text/plain": [
              "2"
            ]
          },
          "metadata": {},
          "execution_count": 59
        }
      ]
    },
    {
      "cell_type": "code",
      "source": [
        "data['Application Type'].nunique()"
      ],
      "metadata": {
        "id": "ISiXoP84AcSK",
        "outputId": "0eb66de5-a8c4-43ca-b23d-652d10ac2673",
        "colab": {
          "base_uri": "https://localhost:8080/"
        }
      },
      "execution_count": 60,
      "outputs": [
        {
          "output_type": "execute_result",
          "data": {
            "text/plain": [
              "2"
            ]
          },
          "metadata": {},
          "execution_count": 60
        }
      ]
    },
    {
      "cell_type": "code",
      "source": [
        "data['Last week Pay'].nunique()"
      ],
      "metadata": {
        "id": "A53lHDcOAcQF",
        "outputId": "11def2ca-61db-4ec2-92e6-e02cdebade22",
        "colab": {
          "base_uri": "https://localhost:8080/"
        }
      },
      "execution_count": 61,
      "outputs": [
        {
          "output_type": "execute_result",
          "data": {
            "text/plain": [
              "162"
            ]
          },
          "metadata": {},
          "execution_count": 61
        }
      ]
    },
    {
      "cell_type": "code",
      "source": [
        "data['Accounts Delinquent'].nunique()"
      ],
      "metadata": {
        "id": "k5fjZQhOAcN0",
        "outputId": "e44a304c-5e1b-435d-a26a-601db87f4d4d",
        "colab": {
          "base_uri": "https://localhost:8080/"
        }
      },
      "execution_count": 62,
      "outputs": [
        {
          "output_type": "execute_result",
          "data": {
            "text/plain": [
              "1"
            ]
          },
          "metadata": {},
          "execution_count": 62
        }
      ]
    },
    {
      "cell_type": "code",
      "source": [
        "data['Total Collection Amount'].nunique()"
      ],
      "metadata": {
        "id": "W8k40dtRAcLU",
        "outputId": "9711d7e1-4f80-454d-dabb-34847902ba59",
        "colab": {
          "base_uri": "https://localhost:8080/"
        }
      },
      "execution_count": 64,
      "outputs": [
        {
          "output_type": "execute_result",
          "data": {
            "text/plain": [
              "2193"
            ]
          },
          "metadata": {},
          "execution_count": 64
        }
      ]
    },
    {
      "cell_type": "code",
      "source": [
        "data['Total Current Balance'].nunique()"
      ],
      "metadata": {
        "id": "xBi3HaRkAcIE",
        "outputId": "cf5b416a-d09a-4062-ef00-3fcfe60b0c47",
        "colab": {
          "base_uri": "https://localhost:8080/"
        }
      },
      "execution_count": 65,
      "outputs": [
        {
          "output_type": "execute_result",
          "data": {
            "text/plain": [
              "60901"
            ]
          },
          "metadata": {},
          "execution_count": 65
        }
      ]
    },
    {
      "cell_type": "code",
      "source": [
        "data['Total Revolving Credit Limit'].nunique()"
      ],
      "metadata": {
        "id": "oKNMrRD_F5OA",
        "outputId": "3457bd1c-8e51-445f-819b-5c33825446f1",
        "colab": {
          "base_uri": "https://localhost:8080/"
        }
      },
      "execution_count": 66,
      "outputs": [
        {
          "output_type": "execute_result",
          "data": {
            "text/plain": [
              "37708"
            ]
          },
          "metadata": {},
          "execution_count": 66
        }
      ]
    },
    {
      "cell_type": "code",
      "source": [
        "data['Batch Enrolled'].nunique()"
      ],
      "metadata": {
        "id": "bO2PilERGwF9",
        "outputId": "acf251bb-2d65-488b-9c0e-714e6ad830fb",
        "colab": {
          "base_uri": "https://localhost:8080/"
        }
      },
      "execution_count": 68,
      "outputs": [
        {
          "output_type": "execute_result",
          "data": {
            "text/plain": [
              "41"
            ]
          },
          "metadata": {},
          "execution_count": 68
        }
      ]
    },
    {
      "cell_type": "markdown",
      "source": [
        "### 문제 1-2\n",
        "문제 1-1 결과를 바탕으로 unique value가 1인 column을 삭제하고 data.columns를 실행하여 그 결과를 보고서에 캡처하여 첨부하세요"
      ],
      "metadata": {
        "id": "vDAyXZmzS7P7"
      }
    },
    {
      "cell_type": "code",
      "source": [
        "### 문제 1-2 ###\n",
        "\n",
        "################\n",
        "data.drop(columns=['Accounts Delinquent'], inplace=True)\n",
        "print(data.columns)"
      ],
      "metadata": {
        "id": "lomPKB8JTJLw",
        "outputId": "3efc83eb-432a-4a16-ff78-f361fda00a87",
        "colab": {
          "base_uri": "https://localhost:8080/"
        }
      },
      "execution_count": 131,
      "outputs": [
        {
          "output_type": "stream",
          "name": "stdout",
          "text": [
            "Index(['ID', 'Loan Amount', 'Funded Amount', 'Funded Amount Investor', 'Term',\n",
            "       'Batch Enrolled', 'Interest Rate', 'Grade', 'Sub Grade',\n",
            "       'Employment Duration', 'Home Ownership', 'Verification Status',\n",
            "       'Payment Plan', 'Loan Title', 'Debit to Income',\n",
            "       'Delinquency - two years', 'Inquires - six months', 'Open Account',\n",
            "       'Public Record', 'Revolving Balance', 'Revolving Utilities',\n",
            "       'Total Accounts', 'Initial List Status', 'Total Received Interest',\n",
            "       'Total Received Late Fee', 'Recoveries', 'Collection Recovery Fee',\n",
            "       'Collection 12 months Medical', 'Application Type', 'Last week Pay',\n",
            "       'Total Collection Amount', 'Total Current Balance',\n",
            "       'Total Revolving Credit Limit', 'Loan Status'],\n",
            "      dtype='object')\n"
          ]
        }
      ]
    },
    {
      "cell_type": "markdown",
      "source": [
        "### 문제 1-3\n",
        "DataFrame data의 feature 이름에는 feature의 이름을 이루는 단어가 두 단어 이상인 경우, 공백이 포함되어 있습니다. feature 이름에 공백을 없애는 코드를 작성하고 data.columns를 실행하여 그 결과를 보고서에 첨부하세요."
      ],
      "metadata": {
        "id": "XqZ_xGnDRN6P"
      }
    },
    {
      "cell_type": "code",
      "source": [
        "### 문제 1-3 ###\n",
        "\n",
        "################\n",
        "data.columns = data.columns.str.replace(\" \", \"\")\n",
        "print(data.columns)"
      ],
      "metadata": {
        "id": "QRMIen3yRNgK",
        "outputId": "f1b7ce31-7d5a-4c3b-f040-1af094b893a6",
        "colab": {
          "base_uri": "https://localhost:8080/"
        }
      },
      "execution_count": 138,
      "outputs": [
        {
          "output_type": "stream",
          "name": "stdout",
          "text": [
            "Index(['ID', 'LoanAmount', 'FundedAmount', 'FundedAmountInvestor', 'Term',\n",
            "       'BatchEnrolled', 'InterestRate', 'Grade', 'SubGrade',\n",
            "       'EmploymentDuration', 'HomeOwnership', 'VerificationStatus',\n",
            "       'PaymentPlan', 'LoanTitle', 'DebittoIncome', 'Delinquency-twoyears',\n",
            "       'Inquires-sixmonths', 'OpenAccount', 'PublicRecord', 'RevolvingBalance',\n",
            "       'RevolvingUtilities', 'TotalAccounts', 'InitialListStatus',\n",
            "       'TotalReceivedInterest', 'TotalReceivedLateFee', 'Recoveries',\n",
            "       'CollectionRecoveryFee', 'Collection12monthsMedical', 'ApplicationType',\n",
            "       'LastweekPay', 'AccountsDelinquent', 'TotalCollectionAmount',\n",
            "       'TotalCurrentBalance', 'TotalRevolvingCreditLimit', 'LoanStatus'],\n",
            "      dtype='object')\n"
          ]
        }
      ]
    },
    {
      "cell_type": "markdown",
      "source": [
        "## 문제 2 :: 범주형, 수치형 데이터\n"
      ],
      "metadata": {
        "id": "fGfN4F3-l_jz"
      }
    },
    {
      "cell_type": "markdown",
      "source": [
        "### 문제 2-1\n",
        "위 ```데이터 살펴보기``` 섹션에서 ```data.dtypes```로 데이터의 type을 살펴보았습니다. ```data.dtypes``` 결과를 참고하여 범주형 데이터(categorical data)를 가진 열의 이름을 담고 있는 List ```categorical```를 아래의 조건을 지켜서 만드세요.\n",
        "* 이 문제에서는 범주형 데이터가 ```object``` type을 가지고 있다고 가정합니다.\n",
        "(실제 데이터에서는 dtypes 결과가 int이더라도 categorical일 수 있습니다)\n",
        "* categorical 변수의 data type은 Index가 아니라 List입니다.\n",
        "<br>\n",
        "보고서에 코드와 categorical 변수의 출력값을 함께 캡처하여 제출합니다."
      ],
      "metadata": {
        "id": "XrEnZCH6Ck4r"
      }
    },
    {
      "cell_type": "code",
      "source": [
        "### 문제 2-1 ###\n",
        "# 보고서에 코드와 categorical 함수의 출력값을 함께 캡처하여 제출합니다\n",
        "categorical = ['BatchEnrolled', 'Grade', 'SubGrade', 'EmploymentDuration', 'VerificationStatus', 'PaymentPlan', 'LoanTitle', 'InitialListStatus', 'ApplicationType' ]\n",
        "###############\n",
        "print(categorical)"
      ],
      "metadata": {
        "id": "kM64YmrEmHtg",
        "outputId": "39c9061b-15db-430f-81a0-b4db69dd8a9b",
        "colab": {
          "base_uri": "https://localhost:8080/"
        }
      },
      "execution_count": 152,
      "outputs": [
        {
          "output_type": "stream",
          "name": "stdout",
          "text": [
            "['BatchEnrolled', 'Grade', 'SubGrade', 'EmploymentDuration', 'VerificationStatus', 'PaymentPlan', 'LoanTitle', 'InitialListStatus', 'ApplicationType']\n"
          ]
        }
      ]
    },
    {
      "cell_type": "markdown",
      "source": [
        "### 문제 2-2\n",
        "List categorical에 속하지 않은 feature들을 List numerical에 저장하고 numerical를 출력하여 보고서에 첨부하세요. (힌트: set(집합)"
      ],
      "metadata": {
        "id": "mVH8GP1OCn2c"
      }
    },
    {
      "cell_type": "code",
      "source": [
        "### 문제 2-2 ###\n",
        "numerical = list(set(data.columns) - set(categorical))\n",
        "###############\n",
        "print(numerical)"
      ],
      "metadata": {
        "id": "IBY5cBNlC0FC",
        "outputId": "8391c6fb-b181-45be-8c59-c9e1ce81a13b",
        "colab": {
          "base_uri": "https://localhost:8080/"
        }
      },
      "execution_count": 153,
      "outputs": [
        {
          "output_type": "stream",
          "name": "stdout",
          "text": [
            "['LastweekPay', 'TotalCurrentBalance', 'FundedAmount', 'OpenAccount', 'Term', 'Inquires-sixmonths', 'TotalReceivedInterest', 'InterestRate', 'HomeOwnership', 'LoanStatus', 'PublicRecord', 'Recoveries', 'TotalReceivedLateFee', 'LoanAmount', 'CollectionRecoveryFee', 'FundedAmountInvestor', 'ID', 'DebittoIncome', 'RevolvingBalance', 'Collection12monthsMedical', 'TotalRevolvingCreditLimit', 'TotalCollectionAmount', 'RevolvingUtilities', 'TotalAccounts', 'Delinquency-twoyears', 'AccountsDelinquent']\n"
          ]
        }
      ]
    },
    {
      "cell_type": "markdown",
      "source": [
        "## 문제 3 :: 데이터 시각화\n"
      ],
      "metadata": {
        "id": "HFGq6fTb7ReK"
      }
    },
    {
      "cell_type": "markdown",
      "source": [
        "### 문제 3-1\n",
        "```seaborn.countplot```을 사용하여 각 Loan Status 에 대한 Grade, Term, Employment Duration의 countplot을 출력하여 3개의 countplot을 보고서에 캡처하여 첨부하세요.\n"
      ],
      "metadata": {
        "id": "oN8__NTlFrIi"
      }
    },
    {
      "cell_type": "code",
      "source": [
        "# Loan Status에 대한 Grade의 countplot 작성\n",
        "sns.countplot(data=data, x=data[\"Grade\"])"
      ],
      "metadata": {
        "id": "khhSq9FbDmFr",
        "outputId": "29ddb4bb-ae6b-44d7-c222-ce991937b293",
        "colab": {
          "base_uri": "https://localhost:8080/",
          "height": 301
        }
      },
      "execution_count": 159,
      "outputs": [
        {
          "output_type": "execute_result",
          "data": {
            "text/plain": [
              "<Axes: xlabel='Grade', ylabel='count'>"
            ]
          },
          "metadata": {},
          "execution_count": 159
        },
        {
          "output_type": "display_data",
          "data": {
            "text/plain": [
              "<Figure size 432x288 with 1 Axes>"
            ],
            "image/png": "[encoded data removed]"
          },
          "metadata": {
            "needs_background": "light"
          }
        }
      ]
    },
    {
      "cell_type": "code",
      "source": [
        "# Loan Status에 대한 Term의 countplot 작성\n",
        "sns.countplot(data=data, x=data[\"Term\"])"
      ],
      "metadata": {
        "id": "t7ESlRSeDmWz",
        "outputId": "87bda9c3-16a3-4a8a-cb42-cdce962e9091",
        "colab": {
          "base_uri": "https://localhost:8080/",
          "height": 297
        }
      },
      "execution_count": 160,
      "outputs": [
        {
          "output_type": "execute_result",
          "data": {
            "text/plain": [
              "<Axes: xlabel='Term', ylabel='count'>"
            ]
          },
          "metadata": {},
          "execution_count": 160
        },
        {
          "output_type": "display_data",
          "data": {
            "text/plain": [
              "<Figure size 432x288 with 1 Axes>"
            ],
            "image/png": "[encoded data removed]"
          },
          "metadata": {
            "needs_background": "light"
          }
        }
      ]
    },
    {
      "cell_type": "code",
      "source": [
        "# Loan Status에 대한 Employment Duration의 countplot 작성\n",
        "sns.countplot(data=data, x=data[\"EmploymentDuration\"])"
      ],
      "metadata": {
        "id": "lpXf16bbDmiF",
        "outputId": "d9cc9eef-c262-41eb-b338-eb42d9556ed2",
        "colab": {
          "base_uri": "https://localhost:8080/",
          "height": 297
        }
      },
      "execution_count": 165,
      "outputs": [
        {
          "output_type": "execute_result",
          "data": {
            "text/plain": [
              "<Axes: xlabel='EmploymentDuration', ylabel='count'>"
            ]
          },
          "metadata": {},
          "execution_count": 165
        },
        {
          "output_type": "display_data",
          "data": {
            "text/plain": [
              "<Figure size 432x288 with 1 Axes>"
            ],
            "image/png": "[encoded data removed]"
          },
          "metadata": {
            "needs_background": "light"
          }
        }
      ]
    },
    {
      "cell_type": "markdown",
      "source": [
        "### 문제 3-2\n",
        "'Interest Rate'에 대한 boxplot을 그리고 캡처하여 보고서에 첨부하세요. 그리고 boxplot에 대해서 아래의 조건을 지켜 서술하세요. (강의노트 2, 40쪽 참고)\n",
        "* 서술에는 최소, 최대, 중앙값, Q1, Q3, outlier(이상치)를 포함합니다."
      ],
      "metadata": {
        "id": "X8T5RjbqHk3E"
      }
    },
    {
      "cell_type": "code",
      "source": [
        "sns.boxplot(y='InterestRate', data = data)"
      ],
      "metadata": {
        "id": "9KfFexi5VaUQ",
        "outputId": "a189ac45-5c20-4d82-824f-4517ba068c8e",
        "colab": {
          "base_uri": "https://localhost:8080/",
          "height": 270
        }
      },
      "execution_count": 167,
      "outputs": [
        {
          "output_type": "execute_result",
          "data": {
            "text/plain": [
              "<Axes: ylabel='InterestRate'>"
            ]
          },
          "metadata": {},
          "execution_count": 167
        },
        {
          "output_type": "display_data",
          "data": {
            "text/plain": [
              "<Figure size 432x288 with 1 Axes>"
            ],
            "image/png": "[encoded data removed]"
          },
          "metadata": {
            "needs_background": "light"
          }
        }
      ]
    },
    {
      "cell_type": "markdown",
      "source": [
        "최솟값은 5 이상이고 최댓값은 20보다 크고 25보다 작은것을 알 수있다. \n",
        "또한 Q1은 10보다 작고 Q2는 10과 15 사이에 있다. 그리고 Q3값은 15보다 작은것을 알 수 있다. 최댓값으로 표현된 선 위에 있는 점들은 이상치이다."
      ],
      "metadata": {
        "id": "NbrMDnV-WAdV"
      }
    },
    {
      "cell_type": "markdown",
      "source": [
        "### 문제 3-3\n",
        "문제 3-2에서 그린 boxplot에는 outlier가 있습니다. 'InterestRate'에 있는 outlier를 제거하는 함수 extract_outliers() 의 빈 칸을 채워 outlier를 찾으세요. extract_outliers 함수를 캡처하여 보고서에 첨부하세요.\n",
        "* 입력: 원본 데이터, outlier가 있는 열의 이름\n",
        "* 출력: outlier들만 있는 DataFrame"
      ],
      "metadata": {
        "id": "CiocpEsJsIlf"
      }
    },
    {
      "cell_type": "code",
      "source": [
        "data['InterestRate'].describe()"
      ],
      "metadata": {
        "id": "YG-epCJUanWN",
        "outputId": "22816d75-29d0-4119-d83e-268db5456a15",
        "colab": {
          "base_uri": "https://localhost:8080/"
        }
      },
      "execution_count": 183,
      "outputs": [
        {
          "output_type": "execute_result",
          "data": {
            "text/plain": [
              "count    67463.000000\n",
              "mean        11.846258\n",
              "std          3.718629\n",
              "min          5.320006\n",
              "25%          9.297147\n",
              "50%         11.377696\n",
              "75%         14.193533\n",
              "max         27.182348\n",
              "Name: InterestRate, dtype: float64"
            ]
          },
          "metadata": {},
          "execution_count": 183
        }
      ]
    },
    {
      "cell_type": "code",
      "source": [
        "q1 = data['InterestRate'].quantile(0.25)\n",
        "q3 = data['InterestRate'].quantile(0.75)\n",
        "\n",
        "iqr = q3 - q1\n",
        "iqr"
      ],
      "metadata": {
        "id": "UXVgf23Ybf8n",
        "outputId": "0648ed0c-73a3-4040-fd37-884c988ac1f1",
        "colab": {
          "base_uri": "https://localhost:8080/"
        }
      },
      "execution_count": 184,
      "outputs": [
        {
          "output_type": "execute_result",
          "data": {
            "text/plain": [
              "4.896385906500001"
            ]
          },
          "metadata": {},
          "execution_count": 184
        }
      ]
    },
    {
      "cell_type": "code",
      "source": [
        "condition=data['InterestRate'] > q3 + (1.5 * iqr)\n",
        "\n",
        "data[condition]"
      ],
      "metadata": {
        "id": "fgwgMW6bb3Eh",
        "outputId": "b7fd154f-e506-4400-dbc0-5c1de69ced36",
        "colab": {
          "base_uri": "https://localhost:8080/",
          "height": 487
        }
      },
      "execution_count": 188,
      "outputs": [
        {
          "output_type": "execute_result",
          "data": {
            "text/plain": [
              "             ID  LoanAmount  FundedAmount  FundedAmountInvestor  Term  \\\n",
              "79      5777207       18874         16334           9289.247238    59   \n",
              "228    22688037       16630          6766          21229.668480    59   \n",
              "238     6388556       13709          8031          25148.396570    59   \n",
              "254     1794250       20187          7143          12124.428250    59   \n",
              "277    43659319       16491         13269          14081.997680    59   \n",
              "...         ...         ...           ...                   ...   ...   \n",
              "66711  16321709       12637         21685          19853.808170    59   \n",
              "66714   6232346       18373         31456          14939.169930    59   \n",
              "66736   5496058       12981         10425          11225.407360    59   \n",
              "67156  56902967        6717         32637           9040.558684    59   \n",
              "67169   3028289        8980          7791           6426.263640    59   \n",
              "\n",
              "      BatchEnrolled  InterestRate Grade SubGrade EmploymentDuration  ...  \\\n",
              "79       BAT3865626     22.019769     C       F4           MORTGAGE  ...   \n",
              "228      BAT5849876     23.107420     B       B1               RENT  ...   \n",
              "238      BAT2333412     24.670390     C       B1           MORTGAGE  ...   \n",
              "254      BAT5547201     21.864763     C       B1               RENT  ...   \n",
              "277      BAT4694572     22.619669     A       B4           MORTGAGE  ...   \n",
              "...             ...           ...   ...      ...                ...  ...   \n",
              "66711    BAT4722912     22.052032     B       C3           MORTGAGE  ...   \n",
              "66714    BAT2803411     24.688754     C       C1               RENT  ...   \n",
              "66736    BAT1104812     26.545888     A       C1           MORTGAGE  ...   \n",
              "67156    BAT3873588     21.755005     B       D4           MORTGAGE  ...   \n",
              "67169    BAT2575549     25.814732     E       C4           MORTGAGE  ...   \n",
              "\n",
              "        Recoveries CollectionRecoveryFee Collection12monthsMedical  \\\n",
              "79        3.901512              0.680022                         0   \n",
              "228       6.245826              0.233682                         0   \n",
              "238    2700.713470              0.575655                         0   \n",
              "254       6.775994              0.349744                         0   \n",
              "277       3.684593              0.795773                         0   \n",
              "...            ...                   ...                       ...   \n",
              "66711     3.676203              0.753663                         0   \n",
              "66714     0.714507              1.572424                         0   \n",
              "66736     0.338494              0.543297                         0   \n",
              "67156     5.097780              0.772381                         0   \n",
              "67169     0.250997              1.226398                         0   \n",
              "\n",
              "      ApplicationType  LastweekPay  AccountsDelinquent  TotalCollectionAmount  \\\n",
              "79         INDIVIDUAL          153                   0                     50   \n",
              "228        INDIVIDUAL           90                   0                     11   \n",
              "238        INDIVIDUAL           28                   0                      8   \n",
              "254        INDIVIDUAL           30                   0                     18   \n",
              "277        INDIVIDUAL           65                   0                    318   \n",
              "...               ...          ...                 ...                    ...   \n",
              "66711      INDIVIDUAL          126                   0                     59   \n",
              "66714      INDIVIDUAL           14                   0                     42   \n",
              "66736      INDIVIDUAL           28                   0                     23   \n",
              "67156      INDIVIDUAL          102                   0                     33   \n",
              "67169      INDIVIDUAL           32                   0                     37   \n",
              "\n",
              "       TotalCurrentBalance  TotalRevolvingCreditLimit  LoanStatus  \n",
              "79                  198127                      19431           0  \n",
              "228                 166714                       4425           0  \n",
              "238                  37872                      97057           0  \n",
              "254                 130082                       1448           0  \n",
              "277                 256703                      45564           0  \n",
              "...                    ...                        ...         ...  \n",
              "66711                17187                      13436           0  \n",
              "66714               122228                      40315           0  \n",
              "66736                 7375                      15421           0  \n",
              "67156                92485                       6180           0  \n",
              "67169               167306                      31622           0  \n",
              "\n",
              "[851 rows x 35 columns]"
            ],
            "text/html": [
              "\n",
              "  <div id=\"df-db74a2fc-cbbc-4f08-83db-19f092613f7c\">\n",
              "    <div class=\"colab-df-container\">\n",
              "      <div>\n",
              "<style scoped>\n",
              "    .dataframe tbody tr th:only-of-type {\n",
              "        vertical-align: middle;\n",
              "    }\n",
              "\n",
              "    .dataframe tbody tr th {\n",
              "        vertical-align: top;\n",
              "    }\n",
              "\n",
              "    .dataframe thead th {\n",
              "        text-align: right;\n",
              "    }\n",
              "</style>\n",
              "<table border=\"1\" class=\"dataframe\">\n",
              "  <thead>\n",
              "    <tr style=\"text-align: right;\">\n",
              "      <th></th>\n",
              "      <th>ID</th>\n",
              "      <th>LoanAmount</th>\n",
              "      <th>FundedAmount</th>\n",
              "      <th>FundedAmountInvestor</th>\n",
              "      <th>Term</th>\n",
              "      <th>BatchEnrolled</th>\n",
              "      <th>InterestRate</th>\n",
              "      <th>Grade</th>\n",
              "      <th>SubGrade</th>\n",
              "      <th>EmploymentDuration</th>\n",
              "      <th>...</th>\n",
              "      <th>Recoveries</th>\n",
              "      <th>CollectionRecoveryFee</th>\n",
              "      <th>Collection12monthsMedical</th>\n",
              "      <th>ApplicationType</th>\n",
              "      <th>LastweekPay</th>\n",
              "      <th>AccountsDelinquent</th>\n",
              "      <th>TotalCollectionAmount</th>\n",
              "      <th>TotalCurrentBalance</th>\n",
              "      <th>TotalRevolvingCreditLimit</th>\n",
              "      <th>LoanStatus</th>\n",
              "    </tr>\n",
              "  </thead>\n",
              "  <tbody>\n",
              "    <tr>\n",
              "      <th>79</th>\n",
              "      <td>5777207</td>\n",
              "      <td>18874</td>\n",
              "      <td>16334</td>\n",
              "      <td>9289.247238</td>\n",
              "      <td>59</td>\n",
              "      <td>BAT3865626</td>\n",
              "      <td>22.019769</td>\n",
              "      <td>C</td>\n",
              "      <td>F4</td>\n",
              "      <td>MORTGAGE</td>\n",
              "      <td>...</td>\n",
              "      <td>3.901512</td>\n",
              "      <td>0.680022</td>\n",
              "      <td>0</td>\n",
              "      <td>INDIVIDUAL</td>\n",
              "      <td>153</td>\n",
              "      <td>0</td>\n",
              "      <td>50</td>\n",
              "      <td>198127</td>\n",
              "      <td>19431</td>\n",
              "      <td>0</td>\n",
              "    </tr>\n",
              "    <tr>\n",
              "      <th>228</th>\n",
              "      <td>22688037</td>\n",
              "      <td>16630</td>\n",
              "      <td>6766</td>\n",
              "      <td>21229.668480</td>\n",
              "      <td>59</td>\n",
              "      <td>BAT5849876</td>\n",
              "      <td>23.107420</td>\n",
              "      <td>B</td>\n",
              "      <td>B1</td>\n",
              "      <td>RENT</td>\n",
              "      <td>...</td>\n",
              "      <td>6.245826</td>\n",
              "      <td>0.233682</td>\n",
              "      <td>0</td>\n",
              "      <td>INDIVIDUAL</td>\n",
              "      <td>90</td>\n",
              "      <td>0</td>\n",
              "      <td>11</td>\n",
              "      <td>166714</td>\n",
              "      <td>4425</td>\n",
              "      <td>0</td>\n",
              "    </tr>\n",
              "    <tr>\n",
              "      <th>238</th>\n",
              "      <td>6388556</td>\n",
              "      <td>13709</td>\n",
              "      <td>8031</td>\n",
              "      <td>25148.396570</td>\n",
              "      <td>59</td>\n",
              "      <td>BAT2333412</td>\n",
              "      <td>24.670390</td>\n",
              "      <td>C</td>\n",
              "      <td>B1</td>\n",
              "      <td>MORTGAGE</td>\n",
              "      <td>...</td>\n",
              "      <td>2700.713470</td>\n",
              "      <td>0.575655</td>\n",
              "      <td>0</td>\n",
              "      <td>INDIVIDUAL</td>\n",
              "      <td>28</td>\n",
              "      <td>0</td>\n",
              "      <td>8</td>\n",
              "      <td>37872</td>\n",
              "      <td>97057</td>\n",
              "      <td>0</td>\n",
              "    </tr>\n",
              "    <tr>\n",
              "      <th>254</th>\n",
              "      <td>1794250</td>\n",
              "      <td>20187</td>\n",
              "      <td>7143</td>\n",
              "      <td>12124.428250</td>\n",
              "      <td>59</td>\n",
              "      <td>BAT5547201</td>\n",
              "      <td>21.864763</td>\n",
              "      <td>C</td>\n",
              "      <td>B1</td>\n",
              "      <td>RENT</td>\n",
              "      <td>...</td>\n",
              "      <td>6.775994</td>\n",
              "      <td>0.349744</td>\n",
              "      <td>0</td>\n",
              "      <td>INDIVIDUAL</td>\n",
              "      <td>30</td>\n",
              "      <td>0</td>\n",
              "      <td>18</td>\n",
              "      <td>130082</td>\n",
              "      <td>1448</td>\n",
              "      <td>0</td>\n",
              "    </tr>\n",
              "    <tr>\n",
              "      <th>277</th>\n",
              "      <td>43659319</td>\n",
              "      <td>16491</td>\n",
              "      <td>13269</td>\n",
              "      <td>14081.997680</td>\n",
              "      <td>59</td>\n",
              "      <td>BAT4694572</td>\n",
              "      <td>22.619669</td>\n",
              "      <td>A</td>\n",
              "      <td>B4</td>\n",
              "      <td>MORTGAGE</td>\n",
              "      <td>...</td>\n",
              "      <td>3.684593</td>\n",
              "      <td>0.795773</td>\n",
              "      <td>0</td>\n",
              "      <td>INDIVIDUAL</td>\n",
              "      <td>65</td>\n",
              "      <td>0</td>\n",
              "      <td>318</td>\n",
              "      <td>256703</td>\n",
              "      <td>45564</td>\n",
              "      <td>0</td>\n",
              "    </tr>\n",
              "    <tr>\n",
              "      <th>...</th>\n",
              "      <td>...</td>\n",
              "      <td>...</td>\n",
              "      <td>...</td>\n",
              "      <td>...</td>\n",
              "      <td>...</td>\n",
              "      <td>...</td>\n",
              "      <td>...</td>\n",
              "      <td>...</td>\n",
              "      <td>...</td>\n",
              "      <td>...</td>\n",
              "      <td>...</td>\n",
              "      <td>...</td>\n",
              "      <td>...</td>\n",
              "      <td>...</td>\n",
              "      <td>...</td>\n",
              "      <td>...</td>\n",
              "      <td>...</td>\n",
              "      <td>...</td>\n",
              "      <td>...</td>\n",
              "      <td>...</td>\n",
              "      <td>...</td>\n",
              "    </tr>\n",
              "    <tr>\n",
              "      <th>66711</th>\n",
              "      <td>16321709</td>\n",
              "      <td>12637</td>\n",
              "      <td>21685</td>\n",
              "      <td>19853.808170</td>\n",
              "      <td>59</td>\n",
              "      <td>BAT4722912</td>\n",
              "      <td>22.052032</td>\n",
              "      <td>B</td>\n",
              "      <td>C3</td>\n",
              "      <td>MORTGAGE</td>\n",
              "      <td>...</td>\n",
              "      <td>3.676203</td>\n",
              "      <td>0.753663</td>\n",
              "      <td>0</td>\n",
              "      <td>INDIVIDUAL</td>\n",
              "      <td>126</td>\n",
              "      <td>0</td>\n",
              "      <td>59</td>\n",
              "      <td>17187</td>\n",
              "      <td>13436</td>\n",
              "      <td>0</td>\n",
              "    </tr>\n",
              "    <tr>\n",
              "      <th>66714</th>\n",
              "      <td>6232346</td>\n",
              "      <td>18373</td>\n",
              "      <td>31456</td>\n",
              "      <td>14939.169930</td>\n",
              "      <td>59</td>\n",
              "      <td>BAT2803411</td>\n",
              "      <td>24.688754</td>\n",
              "      <td>C</td>\n",
              "      <td>C1</td>\n",
              "      <td>RENT</td>\n",
              "      <td>...</td>\n",
              "      <td>0.714507</td>\n",
              "      <td>1.572424</td>\n",
              "      <td>0</td>\n",
              "      <td>INDIVIDUAL</td>\n",
              "      <td>14</td>\n",
              "      <td>0</td>\n",
              "      <td>42</td>\n",
              "      <td>122228</td>\n",
              "      <td>40315</td>\n",
              "      <td>0</td>\n",
              "    </tr>\n",
              "    <tr>\n",
              "      <th>66736</th>\n",
              "      <td>5496058</td>\n",
              "      <td>12981</td>\n",
              "      <td>10425</td>\n",
              "      <td>11225.407360</td>\n",
              "      <td>59</td>\n",
              "      <td>BAT1104812</td>\n",
              "      <td>26.545888</td>\n",
              "      <td>A</td>\n",
              "      <td>C1</td>\n",
              "      <td>MORTGAGE</td>\n",
              "      <td>...</td>\n",
              "      <td>0.338494</td>\n",
              "      <td>0.543297</td>\n",
              "      <td>0</td>\n",
              "      <td>INDIVIDUAL</td>\n",
              "      <td>28</td>\n",
              "      <td>0</td>\n",
              "      <td>23</td>\n",
              "      <td>7375</td>\n",
              "      <td>15421</td>\n",
              "      <td>0</td>\n",
              "    </tr>\n",
              "    <tr>\n",
              "      <th>67156</th>\n",
              "      <td>56902967</td>\n",
              "      <td>6717</td>\n",
              "      <td>32637</td>\n",
              "      <td>9040.558684</td>\n",
              "      <td>59</td>\n",
              "      <td>BAT3873588</td>\n",
              "      <td>21.755005</td>\n",
              "      <td>B</td>\n",
              "      <td>D4</td>\n",
              "      <td>MORTGAGE</td>\n",
              "      <td>...</td>\n",
              "      <td>5.097780</td>\n",
              "      <td>0.772381</td>\n",
              "      <td>0</td>\n",
              "      <td>INDIVIDUAL</td>\n",
              "      <td>102</td>\n",
              "      <td>0</td>\n",
              "      <td>33</td>\n",
              "      <td>92485</td>\n",
              "      <td>6180</td>\n",
              "      <td>0</td>\n",
              "    </tr>\n",
              "    <tr>\n",
              "      <th>67169</th>\n",
              "      <td>3028289</td>\n",
              "      <td>8980</td>\n",
              "      <td>7791</td>\n",
              "      <td>6426.263640</td>\n",
              "      <td>59</td>\n",
              "      <td>BAT2575549</td>\n",
              "      <td>25.814732</td>\n",
              "      <td>E</td>\n",
              "      <td>C4</td>\n",
              "      <td>MORTGAGE</td>\n",
              "      <td>...</td>\n",
              "      <td>0.250997</td>\n",
              "      <td>1.226398</td>\n",
              "      <td>0</td>\n",
              "      <td>INDIVIDUAL</td>\n",
              "      <td>32</td>\n",
              "      <td>0</td>\n",
              "      <td>37</td>\n",
              "      <td>167306</td>\n",
              "      <td>31622</td>\n",
              "      <td>0</td>\n",
              "    </tr>\n",
              "  </tbody>\n",
              "</table>\n",
              "<p>851 rows × 35 columns</p>\n",
              "</div>\n",
              "      <button class=\"colab-df-convert\" onclick=\"convertToInteractive('df-db74a2fc-cbbc-4f08-83db-19f092613f7c')\"\n",
              "              title=\"Convert this dataframe to an interactive table.\"\n",
              "              style=\"display:none;\">\n",
              "        \n",
              "  <svg xmlns=\"http://www.w3.org/2000/svg\" height=\"24px\"viewBox=\"0 0 24 24\"\n",
              "       width=\"24px\">\n",
              "    <path d=\"M0 0h24v24H0V0z\" fill=\"none\"/>\n",
              "    <path d=\"M18.56 5.44l.94 2.06.94-2.06 2.06-.94-2.06-.94-.94-2.06-.94 2.06-2.06.94zm-11 1L8.5 8.5l.94-2.06 2.06-.94-2.06-.94L8.5 2.5l-.94 2.06-2.06.94zm10 10l.94 2.06.94-2.06 2.06-.94-2.06-.94-.94-2.06-.94 2.06-2.06.94z\"/><path d=\"M17.41 7.96l-1.37-1.37c-.4-.4-.92-.59-1.43-.59-.52 0-1.04.2-1.43.59L10.3 9.45l-7.72 7.72c-.78.78-.78 2.05 0 2.83L4 21.41c.39.39.9.59 1.41.59.51 0 1.02-.2 1.41-.59l7.78-7.78 2.81-2.81c.8-.78.8-2.07 0-2.86zM5.41 20L4 18.59l7.72-7.72 1.47 1.35L5.41 20z\"/>\n",
              "  </svg>\n",
              "      </button>\n",
              "      \n",
              "  <style>\n",
              "    .colab-df-container {\n",
              "      display:flex;\n",
              "      flex-wrap:wrap;\n",
              "      gap: 12px;\n",
              "    }\n",
              "\n",
              "    .colab-df-convert {\n",
              "      background-color: #E8F0FE;\n",
              "      border: none;\n",
              "      border-radius: 50%;\n",
              "      cursor: pointer;\n",
              "      display: none;\n",
              "      fill: #1967D2;\n",
              "      height: 32px;\n",
              "      padding: 0 0 0 0;\n",
              "      width: 32px;\n",
              "    }\n",
              "\n",
              "    .colab-df-convert:hover {\n",
              "      background-color: #E2EBFA;\n",
              "      box-shadow: 0px 1px 2px rgba(60, 64, 67, 0.3), 0px 1px 3px 1px rgba(60, 64, 67, 0.15);\n",
              "      fill: #174EA6;\n",
              "    }\n",
              "\n",
              "    [theme=dark] .colab-df-convert {\n",
              "      background-color: #3B4455;\n",
              "      fill: #D2E3FC;\n",
              "    }\n",
              "\n",
              "    [theme=dark] .colab-df-convert:hover {\n",
              "      background-color: #434B5C;\n",
              "      box-shadow: 0px 1px 3px 1px rgba(0, 0, 0, 0.15);\n",
              "      filter: drop-shadow(0px 1px 2px rgba(0, 0, 0, 0.3));\n",
              "      fill: #FFFFFF;\n",
              "    }\n",
              "  </style>\n",
              "\n",
              "      <script>\n",
              "        const buttonEl =\n",
              "          document.querySelector('#df-db74a2fc-cbbc-4f08-83db-19f092613f7c button.colab-df-convert');\n",
              "        buttonEl.style.display =\n",
              "          google.colab.kernel.accessAllowed ? 'block' : 'none';\n",
              "\n",
              "        async function convertToInteractive(key) {\n",
              "          const element = document.querySelector('#df-db74a2fc-cbbc-4f08-83db-19f092613f7c');\n",
              "          const dataTable =\n",
              "            await google.colab.kernel.invokeFunction('convertToInteractive',\n",
              "                                                     [key], {});\n",
              "          if (!dataTable) return;\n",
              "\n",
              "          const docLinkHtml = 'Like what you see? Visit the ' +\n",
              "            '<a target=\"_blank\" href=https://colab.research.google.com/notebooks/data_table.ipynb>data table notebook</a>'\n",
              "            + ' to learn more about interactive tables.';\n",
              "          element.innerHTML = '';\n",
              "          dataTable['output_type'] = 'display_data';\n",
              "          await google.colab.output.renderOutput(dataTable, element);\n",
              "          const docLink = document.createElement('div');\n",
              "          docLink.innerHTML = docLinkHtml;\n",
              "          element.appendChild(docLink);\n",
              "        }\n",
              "      </script>\n",
              "    </div>\n",
              "  </div>\n",
              "  "
            ]
          },
          "metadata": {},
          "execution_count": 188
        }
      ]
    },
    {
      "cell_type": "code",
      "source": [
        "extract_outliers = data[condition].index"
      ],
      "metadata": {
        "id": "zujFidmCcDa1"
      },
      "execution_count": 191,
      "outputs": []
    },
    {
      "cell_type": "code",
      "source": [
        "extract_outliers"
      ],
      "metadata": {
        "id": "WB8A5Cn4cJID",
        "outputId": "a84cc98c-a0ef-41d9-9aeb-4a48f446ae64",
        "colab": {
          "base_uri": "https://localhost:8080/"
        }
      },
      "execution_count": 192,
      "outputs": [
        {
          "output_type": "execute_result",
          "data": {
            "text/plain": [
              "Int64Index([   79,   228,   238,   254,   277,   329,   357,   361,   425,\n",
              "              455,\n",
              "            ...\n",
              "            66458, 66486, 66542, 66558, 66666, 66711, 66714, 66736, 67156,\n",
              "            67169],\n",
              "           dtype='int64', length=851)"
            ]
          },
          "metadata": {},
          "execution_count": 192
        }
      ]
    },
    {
      "cell_type": "code",
      "source": [
        "def extract_outliers(data,col):\n",
        "\n",
        "  q1 =  data[col].quantile(0.25)\n",
        "  q3 = data[col].quantile(0.75)\n",
        "\n",
        "  ################  문제 3-3  ####################\n",
        "  # 소스코드를 입력하고 캡처 후 보고서에 업로드하세요.\n",
        "  # 코드 시작과 코드 끝 라인을 삭제하지 마세요.\n",
        "  ################ 코드 시작  #####################\n",
        "\n",
        "\n",
        "  \n",
        "\n",
        "  ################ 코드 끝 ######################\n",
        "  return out "
      ],
      "metadata": {
        "id": "l4DPo2Pstck1"
      },
      "execution_count": 185,
      "outputs": []
    },
    {
      "cell_type": "code",
      "source": [
        "outlier = extract_outliers(data, \"InterestRate\")"
      ],
      "metadata": {
        "id": "NczYAbRgtgbp"
      },
      "execution_count": null,
      "outputs": []
    },
    {
      "cell_type": "code",
      "source": [
        "data = data.drop(outlier.index, errors='ignore', axis=0)"
      ],
      "metadata": {
        "id": "fQSbhgnGuX7q"
      },
      "execution_count": null,
      "outputs": []
    },
    {
      "cell_type": "markdown",
      "source": [
        "## 문제 4\n",
        "문제1에서 구한 List categorical에는 'Grade' 와 'Sub Grade' feature가 포함되어있습니다. 이 두 가지 feature에 대해 살펴봅시다."
      ],
      "metadata": {
        "id": "0kB4zjhfo56v"
      }
    },
    {
      "cell_type": "code",
      "source": [
        "data['Grade'].unique() # 'Grade'에 포함된 값 확인"
      ],
      "metadata": {
        "id": "-DierDauu0XR",
        "outputId": "4afce78b-7b3d-4c4b-dc82-46011eb7e9bd",
        "colab": {
          "base_uri": "https://localhost:8080/"
        }
      },
      "execution_count": 193,
      "outputs": [
        {
          "output_type": "execute_result",
          "data": {
            "text/plain": [
              "array(['B', 'C', 'F', 'A', 'G', 'E', 'D'], dtype=object)"
            ]
          },
          "metadata": {},
          "execution_count": 193
        }
      ]
    },
    {
      "cell_type": "code",
      "source": [
        "data['SubGrade'].unique() # 'SubGrade'에 포함된 값 확인"
      ],
      "metadata": {
        "id": "__FB9bXyyS1Y",
        "outputId": "0f96f637-a53f-4429-b355-c92586fc19ac",
        "colab": {
          "base_uri": "https://localhost:8080/"
        }
      },
      "execution_count": 194,
      "outputs": [
        {
          "output_type": "execute_result",
          "data": {
            "text/plain": [
              "array(['C4', 'D3', 'D4', 'C3', 'G5', 'C5', 'A5', 'C2', 'B5', 'B1', 'B4',\n",
              "       'A4', 'B2', 'D2', 'C1', 'F3', 'D1', 'F2', 'A2', 'A3', 'F1', 'E5',\n",
              "       'B3', 'F4', 'G1', 'F5', 'E1', 'E2', 'D5', 'G2', 'E4', 'A1', 'G3',\n",
              "       'E3', 'G4'], dtype=object)"
            ]
          },
          "metadata": {},
          "execution_count": 194
        }
      ]
    },
    {
      "cell_type": "markdown",
      "source": [
        "'Grade'와 'SubGrade'를 사용하여 두 categorical feature를 하나의 numerical feature로 통합한 'FinalGrade' 열을 생성합니다. 'FinalGrade' 열은 다음과 같은 규칙으로 생성됩니다. <br>\n",
        "* 'Grade'는 A부터 G까지 7까지의 등급을 가지고 있습니다. 'Grade'가 A로 시작하면 700, B로 시작하면 600, ..., G로 시작하면 100을 부여합니다.\n",
        "* 'SubGrade'는 A부터 G까지 7까지의 등급을 가지고 있습니다. 'SubGrade'가 A로 시작하면 70, B로 시작하면 60, ..., G로 시작하면 10을 부여합니다. 'SubGrade'의 두 번째 자리(숫자 부분)를 앞에서 구한 정수값과 더한 값이 최종 'SubGrade'의 값입니다.\n",
        "* 'FinalGrade'는 각 'Grade'와 'SubGrade' 값을 더한 값입니다.\n",
        "* 예시) Grade: A, SubGrade: A4\n",
        "      A => 700, A4 => 70 + 4\n",
        "      Final Grade = 770"
      ],
      "metadata": {
        "id": "nIzU8K5VtQkX"
      }
    },
    {
      "cell_type": "markdown",
      "source": [
        "### 문제 4-1\n",
        "주어진 list num과 label, di를 사용하여 'SubGrade' 값을 정수로 바꾸는 ```def subGradeEncoder```를 구현하고 코드와 셀 실행 결과를 모두 캡처하여 보고서에 첨부하세요."
      ],
      "metadata": {
        "id": "YC_eXpEdyedl"
      }
    },
    {
      "cell_type": "code",
      "source": [
        "data['SubGrade'].describe()"
      ],
      "metadata": {
        "id": "UKphajfIfIBi",
        "outputId": "4e866fb7-2e17-4028-fe4e-ad5584487321",
        "colab": {
          "base_uri": "https://localhost:8080/"
        }
      },
      "execution_count": 197,
      "outputs": [
        {
          "output_type": "execute_result",
          "data": {
            "text/plain": [
              "count     67463\n",
              "unique       35\n",
              "top          B4\n",
              "freq       4462\n",
              "Name: SubGrade, dtype: object"
            ]
          },
          "metadata": {},
          "execution_count": 197
        }
      ]
    },
    {
      "cell_type": "code",
      "source": [
        "num = [10, 20, 30, 40, 50, 60, 70]\n",
        "label = ['G', 'F', 'E', 'D', 'C', 'B', 'A']\n",
        "di = dict(zip(label, num))\n",
        "\n",
        "def subGradeEncoder(data, di):\n",
        "  result = []\n",
        "  ################ 문제 4-1 ##################\n",
        "  # 소스코드를 입력하고 캡처 후 보고서에 업로드하세요.\n",
        "  # 코드 시작과 코드 끝 라인을 삭제하지 마세요.\n",
        "  ################ 코드 시작  ################\n",
        "\n",
        "### SubGrade 문자열을 인식하고 두개로 나누기 문자열부분 + 숫자부분\n",
        "\n",
        "### 문자열부분 (A, B, C, D, E, F, G) 을 (70+, 60+, 50+, 40+, 30+, 20+,10+) 으로 변환\n",
        "\n",
        "### 숫자부분은 그대로 숫자로 인식하여 문자열을 수식으로 변환\n",
        "\n",
        "### 결과값으로 계산된 숫자를 출력\n",
        "\n",
        "### 그럼 문자와 숫자를 숫자로 출력하는 함수 완성\n",
        "\n",
        "\n",
        "\n",
        "\n",
        "  ################ 코드 끝  ##################\n",
        "  return result\n",
        "\n",
        "data['SubGrade'] = subGradeEncoder(data, di)\n",
        "print(data['SubGrade'])"
      ],
      "metadata": {
        "id": "wjAf2oOqvsrp",
        "outputId": "9c89ec32-cad5-4c8a-c8ad-da20769d16b7",
        "colab": {
          "base_uri": "https://localhost:8080/",
          "height": 383
        }
      },
      "execution_count": 199,
      "outputs": [
        {
          "output_type": "error",
          "ename": "ValueError",
          "evalue": "ignored",
          "traceback": [
            "\u001b[0;31m---------------------------------------------------------------------------\u001b[0m",
            "\u001b[0;31mValueError\u001b[0m                                Traceback (most recent call last)",
            "\u001b[0;32m<ipython-input-199-56106bf391be>\u001b[0m in \u001b[0;36m<module>\u001b[0;34m\u001b[0m\n\u001b[1;32m     24\u001b[0m   \u001b[0;32mreturn\u001b[0m \u001b[0mresult\u001b[0m\u001b[0;34m\u001b[0m\u001b[0;34m\u001b[0m\u001b[0m\n\u001b[1;32m     25\u001b[0m \u001b[0;34m\u001b[0m\u001b[0m\n\u001b[0;32m---> 26\u001b[0;31m \u001b[0mdata\u001b[0m\u001b[0;34m[\u001b[0m\u001b[0;34m'SubGrade'\u001b[0m\u001b[0;34m]\u001b[0m \u001b[0;34m=\u001b[0m \u001b[0msubGradeEncoder\u001b[0m\u001b[0;34m(\u001b[0m\u001b[0mdata\u001b[0m\u001b[0;34m,\u001b[0m \u001b[0mdi\u001b[0m\u001b[0;34m)\u001b[0m\u001b[0;34m\u001b[0m\u001b[0;34m\u001b[0m\u001b[0m\n\u001b[0m\u001b[1;32m     27\u001b[0m \u001b[0mprint\u001b[0m\u001b[0;34m(\u001b[0m\u001b[0mdata\u001b[0m\u001b[0;34m[\u001b[0m\u001b[0;34m'SubGrade'\u001b[0m\u001b[0;34m]\u001b[0m\u001b[0;34m)\u001b[0m\u001b[0;34m\u001b[0m\u001b[0;34m\u001b[0m\u001b[0m\n",
            "\u001b[0;32m/usr/local/lib/python3.9/dist-packages/pandas/core/frame.py\u001b[0m in \u001b[0;36m__setitem__\u001b[0;34m(self, key, value)\u001b[0m\n\u001b[1;32m   3653\u001b[0m         \u001b[0;32melse\u001b[0m\u001b[0;34m:\u001b[0m\u001b[0;34m\u001b[0m\u001b[0;34m\u001b[0m\u001b[0m\n\u001b[1;32m   3654\u001b[0m             \u001b[0;31m# set column\u001b[0m\u001b[0;34m\u001b[0m\u001b[0;34m\u001b[0m\u001b[0m\n\u001b[0;32m-> 3655\u001b[0;31m             \u001b[0mself\u001b[0m\u001b[0;34m.\u001b[0m\u001b[0m_set_item\u001b[0m\u001b[0;34m(\u001b[0m\u001b[0mkey\u001b[0m\u001b[0;34m,\u001b[0m \u001b[0mvalue\u001b[0m\u001b[0;34m)\u001b[0m\u001b[0;34m\u001b[0m\u001b[0;34m\u001b[0m\u001b[0m\n\u001b[0m\u001b[1;32m   3656\u001b[0m \u001b[0;34m\u001b[0m\u001b[0m\n\u001b[1;32m   3657\u001b[0m     \u001b[0;32mdef\u001b[0m \u001b[0m_setitem_slice\u001b[0m\u001b[0;34m(\u001b[0m\u001b[0mself\u001b[0m\u001b[0;34m,\u001b[0m \u001b[0mkey\u001b[0m\u001b[0;34m:\u001b[0m \u001b[0mslice\u001b[0m\u001b[0;34m,\u001b[0m \u001b[0mvalue\u001b[0m\u001b[0;34m)\u001b[0m\u001b[0;34m:\u001b[0m\u001b[0;34m\u001b[0m\u001b[0;34m\u001b[0m\u001b[0m\n",
            "\u001b[0;32m/usr/local/lib/python3.9/dist-packages/pandas/core/frame.py\u001b[0m in \u001b[0;36m_set_item\u001b[0;34m(self, key, value)\u001b[0m\n\u001b[1;32m   3830\u001b[0m         \u001b[0mensure\u001b[0m \u001b[0mhomogeneity\u001b[0m\u001b[0;34m.\u001b[0m\u001b[0;34m\u001b[0m\u001b[0;34m\u001b[0m\u001b[0m\n\u001b[1;32m   3831\u001b[0m         \"\"\"\n\u001b[0;32m-> 3832\u001b[0;31m         \u001b[0mvalue\u001b[0m \u001b[0;34m=\u001b[0m \u001b[0mself\u001b[0m\u001b[0;34m.\u001b[0m\u001b[0m_sanitize_column\u001b[0m\u001b[0;34m(\u001b[0m\u001b[0mvalue\u001b[0m\u001b[0;34m)\u001b[0m\u001b[0;34m\u001b[0m\u001b[0;34m\u001b[0m\u001b[0m\n\u001b[0m\u001b[1;32m   3833\u001b[0m \u001b[0;34m\u001b[0m\u001b[0m\n\u001b[1;32m   3834\u001b[0m         if (\n",
            "\u001b[0;32m/usr/local/lib/python3.9/dist-packages/pandas/core/frame.py\u001b[0m in \u001b[0;36m_sanitize_column\u001b[0;34m(self, value)\u001b[0m\n\u001b[1;32m   4536\u001b[0m \u001b[0;34m\u001b[0m\u001b[0m\n\u001b[1;32m   4537\u001b[0m         \u001b[0;32mif\u001b[0m \u001b[0mis_list_like\u001b[0m\u001b[0;34m(\u001b[0m\u001b[0mvalue\u001b[0m\u001b[0;34m)\u001b[0m\u001b[0;34m:\u001b[0m\u001b[0;34m\u001b[0m\u001b[0;34m\u001b[0m\u001b[0m\n\u001b[0;32m-> 4538\u001b[0;31m             \u001b[0mcom\u001b[0m\u001b[0;34m.\u001b[0m\u001b[0mrequire_length_match\u001b[0m\u001b[0;34m(\u001b[0m\u001b[0mvalue\u001b[0m\u001b[0;34m,\u001b[0m \u001b[0mself\u001b[0m\u001b[0;34m.\u001b[0m\u001b[0mindex\u001b[0m\u001b[0;34m)\u001b[0m\u001b[0;34m\u001b[0m\u001b[0;34m\u001b[0m\u001b[0m\n\u001b[0m\u001b[1;32m   4539\u001b[0m         \u001b[0;32mreturn\u001b[0m \u001b[0msanitize_array\u001b[0m\u001b[0;34m(\u001b[0m\u001b[0mvalue\u001b[0m\u001b[0;34m,\u001b[0m \u001b[0mself\u001b[0m\u001b[0;34m.\u001b[0m\u001b[0mindex\u001b[0m\u001b[0;34m,\u001b[0m \u001b[0mcopy\u001b[0m\u001b[0;34m=\u001b[0m\u001b[0;32mTrue\u001b[0m\u001b[0;34m,\u001b[0m \u001b[0mallow_2d\u001b[0m\u001b[0;34m=\u001b[0m\u001b[0;32mTrue\u001b[0m\u001b[0;34m)\u001b[0m\u001b[0;34m\u001b[0m\u001b[0;34m\u001b[0m\u001b[0m\n\u001b[1;32m   4540\u001b[0m \u001b[0;34m\u001b[0m\u001b[0m\n",
            "\u001b[0;32m/usr/local/lib/python3.9/dist-packages/pandas/core/common.py\u001b[0m in \u001b[0;36mrequire_length_match\u001b[0;34m(data, index)\u001b[0m\n\u001b[1;32m    555\u001b[0m     \"\"\"\n\u001b[1;32m    556\u001b[0m     \u001b[0;32mif\u001b[0m \u001b[0mlen\u001b[0m\u001b[0;34m(\u001b[0m\u001b[0mdata\u001b[0m\u001b[0;34m)\u001b[0m \u001b[0;34m!=\u001b[0m \u001b[0mlen\u001b[0m\u001b[0;34m(\u001b[0m\u001b[0mindex\u001b[0m\u001b[0;34m)\u001b[0m\u001b[0;34m:\u001b[0m\u001b[0;34m\u001b[0m\u001b[0;34m\u001b[0m\u001b[0m\n\u001b[0;32m--> 557\u001b[0;31m         raise ValueError(\n\u001b[0m\u001b[1;32m    558\u001b[0m             \u001b[0;34m\"Length of values \"\u001b[0m\u001b[0;34m\u001b[0m\u001b[0;34m\u001b[0m\u001b[0m\n\u001b[1;32m    559\u001b[0m             \u001b[0;34mf\"({len(data)}) \"\u001b[0m\u001b[0;34m\u001b[0m\u001b[0;34m\u001b[0m\u001b[0m\n",
            "\u001b[0;31mValueError\u001b[0m: Length of values (0) does not match length of index (67463)"
          ]
        }
      ]
    },
    {
      "cell_type": "markdown",
      "source": [
        "### 문제 4-2\n",
        "주어진 list num과 label, di를 사용하여 'Grade' 값을 정수로 바꾸는 ```def gradeEncoder```를 구현하고 코드와 셀 실행 결과를 모두 캡처하여 보고서에 첨부하세요."
      ],
      "metadata": {
        "id": "bRChqSc_yyB8"
      }
    },
    {
      "cell_type": "code",
      "source": [
        "num = [100, 200, 300, 400, 500, 600, 700]\n",
        "label = ['G', 'F', 'E', 'D', 'C', 'B', 'A']\n",
        "di = dict(zip(label, num))\n",
        "\n",
        "def gradeEncoder(data, di):\n",
        "  result = []\n",
        "  ################ 문제 4-2 ##################\n",
        "  # 소스코드를 입력하고 캡처 후 보고서에 업로드하세요.\n",
        "  # 코드 시작과 코드 끝 라인을 삭제하지 마세요.\n",
        "  ################ 코드 시작  ################\n",
        "\n",
        "\n",
        "\n",
        "\n",
        "  ################ 코드 끝  ##################\n",
        "  return result\n",
        "\n",
        "data['Grade'] = gradeEncoder(data, di)\n",
        "print(data['Grade'])"
      ],
      "metadata": {
        "id": "p4TTeuHWxe9M"
      },
      "execution_count": null,
      "outputs": []
    },
    {
      "cell_type": "markdown",
      "source": [
        "### 문제 4-3\n",
        "'Sub Grade' 열의 값과 'Grade' 값을 합하여 최종적인 'Grade' 값을 담은 ```Final Grade```라는 열을 생성하고 코드와 셀 실행 결과를 모두 캡처하여 보고서에 첨부하세요."
      ],
      "metadata": {
        "id": "0juLQab7zCF7"
      }
    },
    {
      "cell_type": "code",
      "source": [
        "### 문제 4-3 ###\n",
        "# 소스코드를 입력하고 캡처 후 보고서에 업로드하세요.\n",
        "# 코드 시작과 코드 끝 라인을 삭제하지 마세요.\n",
        "### 코드 시작 ##\n",
        "FinalGrade = SubGrade + Grade\n",
        "\n",
        "################\n",
        "print(data['FinalGrade'])"
      ],
      "metadata": {
        "id": "0KwjcVbezXDb"
      },
      "execution_count": null,
      "outputs": []
    },
    {
      "cell_type": "code",
      "source": [
        "data = data.drop(labels = ['Grade', 'SubGrade'], axis=1)"
      ],
      "metadata": {
        "id": "b41995Z2VT7s"
      },
      "execution_count": null,
      "outputs": []
    },
    {
      "cell_type": "markdown",
      "source": [
        "## 문제 5\n",
        "문제 5 는 보고서에 출제되어있습니다. 보고서에 답안을 작성해주세요."
      ],
      "metadata": {
        "id": "WKkKBoDTO2L0"
      }
    }
  ],
  "metadata": {
    "kernelspec": {
      "display_name": "Python 3 (ipykernel)",
      "language": "python",
      "name": "python3"
    },
    "language_info": {
      "codemirror_mode": {
        "name": "ipython",
        "version": 3
      },
      "file_extension": ".py",
      "mimetype": "text/x-python",
      "name": "python",
      "nbconvert_exporter": "python",
      "pygments_lexer": "ipython3",
      "version": "3.9.13"
    },
    "colab": {
      "provenance": [],
      "include_colab_link": true
    }
  },
  "nbformat": 4,
  "nbformat_minor": 0
}